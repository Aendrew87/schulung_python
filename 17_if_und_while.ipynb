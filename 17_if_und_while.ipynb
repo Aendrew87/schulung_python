{
 "metadata": {
  "name": "",
  "signature": "sha256:32c82142cfba7f32c03268f369105e619515b7f403d0e7808427e99070d49dce"
 },
 "nbformat": 3,
 "nbformat_minor": 0,
 "worksheets": [
  {
   "cells": [
    {
     "cell_type": "markdown",
     "metadata": {},
     "source": [
      "If\n",
      "----------------\n",
      "### Grundlagen\n",
      "\n",
      "* Oftmals muss eine Aktion in Abh\u00e4ngigkeit ausgef\u00fchrt werden, ob eine Bedingung erf\u00fcllt ist oder nicht.\n",
      "    * Ist ein Benutzer 18 Jahre alt?\n",
      "    * Stimmt das eingegebene Passwort mit dem gespeicherten \u00fcberein?"
     ]
    },
    {
     "cell_type": "code",
     "collapsed": false,
     "input": [
      "secret_word = \"eimer\"\n",
      "print(\"Bitte Passwort eingeben\")\n",
      "guess = input()\n",
      "if(guess == secret_word):\n",
      "    print(\"Willkommen im System\")"
     ],
     "language": "python",
     "metadata": {},
     "outputs": [
      {
       "output_type": "stream",
       "stream": "stdout",
       "text": [
        "Bitte Passwort eingeben\n"
       ]
      },
      {
       "name": "stdout",
       "output_type": "stream",
       "stream": "stdout",
       "text": [
        "asd\n"
       ]
      }
     ],
     "prompt_number": 3
    },
    {
     "cell_type": "markdown",
     "metadata": {},
     "source": [
      "### Else\n",
      "\n",
      "* Ist der **if**-Zweig nicht erf\u00fcllt, wird der **else**-Zweig ausgef\u00fchrt"
     ]
    },
    {
     "cell_type": "code",
     "collapsed": false,
     "input": [
      "secret_word = \"eimer\"\n",
      "print(\"Bitte Passwort eingeben\")\n",
      "guess = input()\n",
      "if(guess == secret_word):\n",
      "    print(\"Willkommen im System\")\n",
      "else:\n",
      "    print(\"Hau ab!\")"
     ],
     "language": "python",
     "metadata": {},
     "outputs": [
      {
       "output_type": "stream",
       "stream": "stdout",
       "text": [
        "Bitte Passwort eingeben\n"
       ]
      },
      {
       "name": "stdout",
       "output_type": "stream",
       "stream": "stdout",
       "text": [
        "asd\n"
       ]
      },
      {
       "output_type": "stream",
       "stream": "stdout",
       "text": [
        "Hau ab!\n"
       ]
      }
     ],
     "prompt_number": 5
    },
    {
     "cell_type": "markdown",
     "metadata": {},
     "source": [
      "### Elif\n",
      "\n",
      "* Um mehrere Bedingungen abzufragen, die Abh\u00e4ngig voneinander gepr\u00fcft werden m\u00fcssen, wird **elif** (kurz f\u00fcr **else if**) verwendet. \n",
      "* Beispiel f\u00fcr ein Login-System - eine Benutzerin versucht sich anzumelden\n",
      "    * Falls... sie loggt sich richtig an\n",
      "        * System starten\n",
      "    * Sonst: Falls... sie meldet sich mit weniger als 3 Fehlversuchen an\n",
      "        * Anzeigen: Passwort falsch\n",
      "    * Sonst: \n",
      "        * Anzeigen: Benutzer gesperrt"
     ]
    },
    {
     "cell_type": "code",
     "collapsed": false,
     "input": [
      "print(\"Please select: 1 for salad, 2 for soup, 3 for steak\")\n",
      "choice = int(input())\n",
      "if choice == 1:\n",
      "    print(\"One salad coming right up\")\n",
      "elif choice == 2:\n",
      "    print(\"Soup for you!\")\n",
      "elif choice == 3:\n",
      "    print(\"Steak will be prepared\")\n",
      "else:\n",
      "    print(\"Invalid choice\")\n",
      "\n"
     ],
     "language": "python",
     "metadata": {},
     "outputs": [
      {
       "output_type": "stream",
       "stream": "stdout",
       "text": [
        "Please select: 1 for salad, 2 for soup, 3 for steak\n"
       ]
      },
      {
       "name": "stdout",
       "output_type": "stream",
       "stream": "stdout",
       "text": [
        "3\n"
       ]
      },
      {
       "output_type": "stream",
       "stream": "stdout",
       "text": [
        "Steak will be prepared\n"
       ]
      }
     ],
     "prompt_number": 2
    },
    {
     "cell_type": "markdown",
     "metadata": {},
     "source": [
      "While\n",
      "----------------\n",
      "### Grundlagen\n",
      "\n",
      "* Oftmals muss eine Aktion durchgef\u00fchrt werden, solange eine Bedingung erf\u00fcllt / nicht erf\u00fcllt ist"
     ]
    },
    {
     "cell_type": "code",
     "collapsed": false,
     "input": [
      "secret_word = \"eimer\"\n",
      "guess = None\n",
      "\n",
      "while guess != secret_word:\n",
      "    print(\"Passwort eingeben:\")\n",
      "    guess = input()\n",
      "print(\"Willkommen im System\")"
     ],
     "language": "python",
     "metadata": {},
     "outputs": [
      {
       "output_type": "stream",
       "stream": "stdout",
       "text": [
        "Passwort eingeben:\n"
       ]
      },
      {
       "name": "stdout",
       "output_type": "stream",
       "stream": "stdout",
       "text": [
        "123\n"
       ]
      },
      {
       "output_type": "stream",
       "stream": "stdout",
       "text": [
        "Passwort eingeben:\n"
       ]
      },
      {
       "name": "stdout",
       "output_type": "stream",
       "stream": "stdout",
       "text": [
        "234\n"
       ]
      },
      {
       "output_type": "stream",
       "stream": "stdout",
       "text": [
        "Passwort eingeben:\n"
       ]
      },
      {
       "name": "stdout",
       "output_type": "stream",
       "stream": "stdout",
       "text": [
        "eo\n"
       ]
      },
      {
       "output_type": "stream",
       "stream": "stdout",
       "text": [
        "Passwort eingeben:\n"
       ]
      },
      {
       "name": "stdout",
       "output_type": "stream",
       "stream": "stdout",
       "text": [
        "eimer\n"
       ]
      },
      {
       "output_type": "stream",
       "stream": "stdout",
       "text": [
        "Willkommen im System\n"
       ]
      }
     ],
     "prompt_number": 1
    },
    {
     "cell_type": "markdown",
     "metadata": {},
     "source": [
      "### Break\n",
      "\n",
      "* Ein **do ... while** (mindestens einmaliges Ausf\u00fchren der Aktion, dann Pr\u00fcfung) gibt es nicht\n",
      "* Dies kann leicht substitutiert werden\n",
      "* Mit dem Schl\u00fcsselwort **break** wird die aktuelle **while**-Schleife verlassen"
     ]
    },
    {
     "cell_type": "code",
     "collapsed": false,
     "input": [
      "secret_word = \"eimer\"\n",
      "\n",
      "while True:\n",
      "    print(\"Passwort eingeben:\")\n",
      "    guess = input()\n",
      "    if(guess == secret_word):\n",
      "        break\n",
      "        \n",
      "print(\"Willkommen im System\")"
     ],
     "language": "python",
     "metadata": {},
     "outputs": [
      {
       "output_type": "stream",
       "stream": "stdout",
       "text": [
        "Passwort eingeben:\n"
       ]
      },
      {
       "name": "stdout",
       "output_type": "stream",
       "stream": "stdout",
       "text": [
        "asd\n"
       ]
      },
      {
       "output_type": "stream",
       "stream": "stdout",
       "text": [
        "Passwort eingeben:\n"
       ]
      },
      {
       "name": "stdout",
       "output_type": "stream",
       "stream": "stdout",
       "text": [
        "eimer\n"
       ]
      },
      {
       "output_type": "stream",
       "stream": "stdout",
       "text": [
        "Willkommen im System\n"
       ]
      }
     ],
     "prompt_number": 2
    },
    {
     "cell_type": "markdown",
     "metadata": {},
     "source": [
      "### Continue\n",
      "\n",
      "* M\u00f6chte man ein Element einer Schleife \u00fcberspringen, kann man dies mit **continue** machen"
     ]
    },
    {
     "cell_type": "code",
     "collapsed": false,
     "input": [
      "# Was passiert hier?\n",
      "daten = [1, \"a\", 3, \"g\", 19, \"z\"]\n",
      "for datum in daten:\n",
      "    if type(datum) is not str:\n",
      "        print(datum)\n",
      "    else:\n",
      "        continue\n",
      "    print(\"-------\")"
     ],
     "language": "python",
     "metadata": {},
     "outputs": [
      {
       "output_type": "stream",
       "stream": "stdout",
       "text": [
        "1\n",
        "-------\n",
        "3\n",
        "-------\n",
        "19\n",
        "-------\n"
       ]
      }
     ],
     "prompt_number": 4
    },
    {
     "cell_type": "code",
     "collapsed": false,
     "input": [
      "# Aufgabe: Erstelle eine Methode, die einen Countdown (von der gegebene Zahl bis 0) ausgibt.\n",
      "# Wie muss die Methode ge\u00e4ndert werden, damit diese Aufsteigende Zahlen ausgibt?\n",
      "countdown(5) # Erwartete Ausgabe: 5 4 3 2 1 0\n",
      "countup(5) # Erwartete Ausgabe: 0 1 2 3 4 5\n",
      "\n"
     ],
     "language": "python",
     "metadata": {},
     "outputs": []
    },
    {
     "cell_type": "code",
     "collapsed": false,
     "input": [
      "# Aufgabe: Erstelle eine Methode, die einen Countdown (von der gegebene Zahl bis 0) ohne die Benutzung von 'for', noch von 'while'.\n",
      "# Wie muss die Methode ge\u00e4ndert werden, damit diese Aufsteigende Zahlen ausgibt?\n",
      "countdown(5) # Erwartete Ausgabe: 5 4 3 2 1 0\n",
      "countup(5) # Erwartete Ausgabe: 0 1 2 3 4 5"
     ],
     "language": "python",
     "metadata": {},
     "outputs": []
    }
   ],
   "metadata": {}
  }
 ]
}