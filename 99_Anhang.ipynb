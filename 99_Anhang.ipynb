{
 "metadata": {
  "name": "",
  "signature": "sha256:12eb3320a709053c6d27929438d2e003275f4e404ff33dfc60e905a69fa1dbfd"
 },
 "nbformat": 3,
 "nbformat_minor": 0,
 "worksheets": [
  {
   "cells": [
    {
     "cell_type": "markdown",
     "metadata": {},
     "source": [
      "Anhang\n",
      "------------------\n",
      "\n",
      "### Kontaktdaten:\n",
      "* Philipp Wei\u00dfmann\n",
      "* mail@philipp-weissmann.de\n",
      "* +49 162 42 52 802\n",
      "\n",
      "### Eastereggs:\n",
      "* Zen of Python:"
     ]
    },
    {
     "cell_type": "code",
     "collapsed": false,
     "input": [
      "import this"
     ],
     "language": "python",
     "metadata": {},
     "outputs": [],
     "prompt_number": 2
    },
    {
     "cell_type": "markdown",
     "metadata": {},
     "source": [
      "* Python Comic / antigravity"
     ]
    },
    {
     "cell_type": "code",
     "collapsed": false,
     "input": [
      "import antigravity"
     ],
     "language": "python",
     "metadata": {},
     "outputs": [],
     "prompt_number": 3
    }
   ],
   "metadata": {}
  }
 ]
}