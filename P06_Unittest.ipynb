{
 "metadata": {
  "name": "",
  "signature": "sha256:b7f9bdc4ba13e10965f93f496e4e41f8333722c84c8c719a53d2c2c18cf4982f"
 },
 "nbformat": 3,
 "nbformat_minor": 0,
 "worksheets": [
  {
   "cells": [
    {
     "cell_type": "markdown",
     "metadata": {},
     "source": [
      "Unittests\n",
      "--------------------\n",
      "\n",
      "* Unittests (auch Mikrotests) testen kleinste Methoden und Klassen\n",
      "* Python wird oft sehr stark testgetrieben entwickelt\n",
      "* Aufruf entweder per Programm, welches /unittest.main/ aufruft\n",
      "* Alternative: [nosetests](https://nose.readthedocs.org/en/latest/)\n",
      "* Anmerkung: Funktioniert wahrscheinlich nicht direkt in IPython Notebook"
     ]
    },
    {
     "cell_type": "code",
     "collapsed": false,
     "input": [
      "import unittest\n",
      "\n",
      "\n",
      "def multiply(a, b):\n",
      "    return a + b\n",
      "\n",
      "# Muss mit Test... beginnen!\n",
      "\n",
      "\n",
      "class TestMyTestName(unittest.TestCase):\n",
      "    # Zum \"vorbereiten\" des Tests\n",
      "\n",
      "    def setUp(self):\n",
      "        pass\n",
      "    # Muss mit test... beginnen\n",
      "\n",
      "    def test_MyFirstTest(self):\n",
      "        # Arrange\n",
      "        # Act\n",
      "        result = multiply(7, 5)\n",
      "        # Assert\n",
      "        self.assertEqual(35, result)\n",
      "\n",
      "# Falls diese Datei direkt aufgerufen wird: Unittest starten\n",
      "if __name__ == \"__main__\":\n",
      "    unittest.main()\n"
     ],
     "language": "python",
     "metadata": {},
     "outputs": [
      {
       "output_type": "stream",
       "stream": "stderr",
       "text": [
        "usage: -c [-h] [-v] [-q] [-f] [-c] [-b] [tests [tests ...]]\n",
        "-c: error: unrecognized arguments: --IPKernelApp.parent_appname='ipython-notebook' --profile-dir C:\\Documents and Settings\\phw\\.ipython\\profile_default --interrupt=1036 --parent=988\n"
       ]
      },
      {
       "ename": "SystemExit",
       "evalue": "2",
       "output_type": "pyerr",
       "traceback": [
        "An exception has occurred, use %tb to see the full traceback.\n",
        "\u001b[1;31mSystemExit\u001b[0m\u001b[1;31m:\u001b[0m 2\n"
       ]
      },
      {
       "output_type": "stream",
       "stream": "stderr",
       "text": [
        "To exit: use 'exit', 'quit', or Ctrl-D.\n"
       ]
      }
     ],
     "prompt_number": 7
    },
    {
     "cell_type": "code",
     "collapsed": false,
     "input": [],
     "language": "python",
     "metadata": {},
     "outputs": []
    }
   ],
   "metadata": {}
  }
 ]
}