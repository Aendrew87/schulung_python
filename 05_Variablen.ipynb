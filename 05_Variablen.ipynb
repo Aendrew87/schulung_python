{
 "metadata": {
  "name": "",
  "signature": "sha256:f7274c31ca3aaa2e803f223e384b6f69c1ef806f7977781da64a32475bbb9bed"
 },
 "nbformat": 3,
 "nbformat_minor": 0,
 "worksheets": [
  {
   "cells": [
    {
     "cell_type": "markdown",
     "metadata": {},
     "source": [
      "Variablen\n",
      "------------------\n",
      "\n",
      "### Kommentare\n",
      "* Zeilen mit einem # werden ignoriert"
     ]
    },
    {
     "cell_type": "code",
     "collapsed": false,
     "input": [
      "# Mein erstes Programm\n",
      "print(\"Hello World\")\n",
      "# print(\"Goodbye World\")"
     ],
     "language": "python",
     "metadata": {},
     "outputs": [
      {
       "output_type": "stream",
       "stream": "stdout",
       "text": [
        "Hello World\n"
       ]
      }
     ],
     "prompt_number": 5
    },
    {
     "cell_type": "markdown",
     "metadata": {},
     "source": [
      "### Grundlagen\n",
      "* Variablen werden ohne Typ deklariert, besitzen aber einen\n",
      "* Vergleiche *var* in C# oder *auto* in C++11\n",
      "* Der Typ kann mit der Funktion *type* ermittelt werden"
     ]
    },
    {
     "cell_type": "code",
     "collapsed": false,
     "input": [
      "question = \"Heute schon Kaffee gehabt?\"\n",
      "print(question)\n",
      "print(type(question))"
     ],
     "language": "python",
     "metadata": {},
     "outputs": [
      {
       "output_type": "stream",
       "stream": "stdout",
       "text": [
        "Heute schon Kaffee gehabt?\n",
        "<class 'str'>\n"
       ]
      }
     ],
     "prompt_number": 6
    },
    {
     "cell_type": "code",
     "collapsed": false,
     "input": [
      "# Schreibe ein Programm, in dem Du 3 verschiedene Datentypen anlegst und ihren Typ ausgibst\n",
      "# Erstes Beispiel:\n",
      "a = \"Text\"\n",
      "print(a)\n",
      "print(type(a))\n",
      "\n",
      "b = # ...\n"
     ],
     "language": "python",
     "metadata": {},
     "outputs": [],
     "prompt_number": "*"
    },
    {
     "cell_type": "markdown",
     "metadata": {},
     "source": [
      "### int und float\n",
      "* Ganzzahlen: int\n",
      "* Gleitkommazahlen: float"
     ]
    },
    {
     "cell_type": "code",
     "collapsed": false,
     "input": [
      "level = 1\n",
      "print(level)\n",
      "print(type(level))\n",
      "\n",
      "percentage = 0.75\n",
      "print(percentage)\n",
      "print(type(percentage))"
     ],
     "language": "python",
     "metadata": {},
     "outputs": [
      {
       "output_type": "stream",
       "stream": "stdout",
       "text": [
        "1\n",
        "<class 'int'>\n",
        "0.75\n",
        "<class 'float'>\n"
       ]
      }
     ],
     "prompt_number": 7
    },
    {
     "cell_type": "markdown",
     "metadata": {},
     "source": [
      "### String\n",
      "* Seit Python 3: Unicode\n",
      "* Verh\u00e4lt sich auch als Liste (sp\u00e4ter!)\n",
      "* Einfache oder Doppelte Anf\u00fchrungzeichen\n",
      "* Ende '[escapen](http://en.wikipedia.org/wiki/Escape_character)' mit \\n\n",
      "* Drei doppelte Anf\u00fchrungszeichen: Mehrzeiliger String\n"
     ]
    },
    {
     "cell_type": "code",
     "collapsed": false,
     "input": [
      "text_1 = \"Guten Morgen!\"\n",
      "text_2 = 'Bonjour!'\n",
      "text_3 = \"\"\"Dies ist ein sehr\n",
      "             sehr\n",
      "             sehr\n",
      "             sehr \n",
      "             sehr langer Text\n",
      "             mit mehreren Zeilen\"\"\"\n",
      "text_4 = \"Dies ist auch ein sehr \\\n",
      "sehr \\\n",
      "sehr \\\n",
      "sehr \\\n",
      "sehr langer Text - aber nur in einer Zeile\"\n",
      "print(text_1)\n",
      "print(text_2)\n",
      "print(text_3)\n",
      "print(text_4)\n",
      "print(type(text_1))\n",
      "print(type(text_2))\n",
      "print(type(text_3))\n",
      "print(type(text_4))"
     ],
     "language": "python",
     "metadata": {},
     "outputs": [
      {
       "output_type": "stream",
       "stream": "stdout",
       "text": [
        "Guten Morgen!\n",
        "Bonjour!\n",
        "Dies ist ein sehr\n",
        "             sehr\n",
        "             sehr\n",
        "             sehr \n",
        "             sehr langer Text\n",
        "             mit mehreren Zeilen\n",
        "Dies ist auch ein sehr sehr sehr sehr sehr langer Text - aber nur in einer Zeile\n",
        "<class 'str'>\n",
        "<class 'str'>\n",
        "<class 'str'>\n",
        "<class 'str'>\n"
       ]
      }
     ],
     "prompt_number": 20
    },
    {
     "cell_type": "markdown",
     "metadata": {},
     "source": [
      "### Weitere Dateitypen\n",
      "* Boolean (Wahrheitswert: True oder False)\n",
      "* Complex (Komplexe Zahl, d.h. Real- und Imagin\u00e4rteil)\n",
      "* None (Das Equivalent zu *null*)\n",
      "* Bytes (Bin\u00e4rdaten, z.B. beim Einlesen von Dateien)"
     ]
    },
    {
     "cell_type": "code",
     "collapsed": false,
     "input": [
      "boolean_1 = False\n",
      "print(boolean_1)\n",
      "print(type(boolean_1))\n",
      "\n",
      "boolean_2 = True\n",
      "print(boolean_2)\n",
      "print(type(boolean_2))\n",
      "\n",
      "complex_1 = 5 + 2j\n",
      "print(complex_1)\n",
      "print(type(complex_1))\n",
      "\n",
      "nothing = None\n",
      "print(nothing)\n",
      "print(type(nothing))\n",
      "\n",
      "data = b'DATEN'\n",
      "print(data)\n",
      "print(type(data))"
     ],
     "language": "python",
     "metadata": {},
     "outputs": [
      {
       "output_type": "stream",
       "stream": "stdout",
       "text": [
        "False\n",
        "<class 'bool'>\n",
        "True\n",
        "<class 'bool'>\n",
        "(5+2j)\n",
        "<class 'complex'>\n",
        "None\n",
        "<class 'NoneType'>\n",
        "b'DATEN'\n",
        "<class 'bytes'>\n"
       ]
      }
     ],
     "prompt_number": 26
    }
   ],
   "metadata": {}
  }
 ]
}