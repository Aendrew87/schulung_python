{
 "metadata": {
  "name": "",
  "signature": "sha256:2147dab2a517bae90286ddf103ff71ca9cfd005944dd8ac84127a212fe1fc147"
 },
 "nbformat": 3,
 "nbformat_minor": 0,
 "worksheets": [
  {
   "cells": [
    {
     "cell_type": "markdown",
     "metadata": {},
     "source": [
      "Exceptions\n",
      "-----------------\n",
      "\n",
      "### Grundlagen\n",
      "* Bei vorherigen Versuchen haben wir stets **Exceptions** ignoriert\n",
      "* Exceptions treten immer dann auf, wenn etwas 'unerwartetes' passiert\n",
      "* Exceptions k\u00f6nnen von uns 'gefangen' (d.h. abgearbeitet) werden\n",
      "* Exceptions k\u00f6nnen von uns 'geworfen' (d.h. erzeugt) werden"
     ]
    },
    {
     "cell_type": "code",
     "collapsed": false,
     "input": [
      "# Versuche das folgende...\n",
      "try:\n",
      "    text = input()\n",
      "    zahl = int(text)\n",
      "# ...\n",
      "except ValueError:\n",
      "    print(\"That was not a number\")\n",
      "except:\n",
      "    print(\"A different error occured\")"
     ],
     "language": "python",
     "metadata": {},
     "outputs": [
      {
       "name": "stdout",
       "output_type": "stream",
       "stream": "stdout",
       "text": [
        "asd\n"
       ]
      },
      {
       "output_type": "stream",
       "stream": "stdout",
       "text": [
        "That was not a number\n"
       ]
      }
     ],
     "prompt_number": 2
    },
    {
     "cell_type": "markdown",
     "metadata": {},
     "source": [
      "### Finally\n",
      "* Da eine Exception an der Stelle des Auftretens mit dem Programm abbricht, m\u00f6chte man oftmals, dass noch gewisse Aktionen durchgef\u00fchrt werden"
     ]
    },
    {
     "cell_type": "code",
     "collapsed": false,
     "input": [
      "try:\n",
      "    x = 1 / 0\n",
      "    print(\"Can you read this line?\")\n",
      "finally:\n",
      "    print(\"Division by Zero.\")\n",
      "print(\"Or this one?\")\n"
     ],
     "language": "python",
     "metadata": {},
     "outputs": [
      {
       "output_type": "stream",
       "stream": "stdout",
       "text": [
        "Division by Zero.\n"
       ]
      },
      {
       "ename": "ZeroDivisionError",
       "evalue": "division by zero",
       "output_type": "pyerr",
       "traceback": [
        "\u001b[1;31m---------------------------------------------------------------------------\u001b[0m\n\u001b[1;31mZeroDivisionError\u001b[0m                         Traceback (most recent call last)",
        "\u001b[1;32m<ipython-input-4-67c983110162>\u001b[0m in \u001b[0;36m<module>\u001b[1;34m()\u001b[0m\n\u001b[0;32m      1\u001b[0m \u001b[1;32mtry\u001b[0m\u001b[1;33m:\u001b[0m\u001b[1;33m\u001b[0m\u001b[0m\n\u001b[1;32m----> 2\u001b[1;33m     \u001b[0mx\u001b[0m \u001b[1;33m=\u001b[0m \u001b[1;36m1\u001b[0m \u001b[1;33m/\u001b[0m \u001b[1;36m0\u001b[0m\u001b[1;33m\u001b[0m\u001b[0m\n\u001b[0m\u001b[0;32m      3\u001b[0m     \u001b[0mprint\u001b[0m\u001b[1;33m(\u001b[0m\u001b[1;34m\"Can you read this line?\"\u001b[0m\u001b[1;33m)\u001b[0m\u001b[1;33m\u001b[0m\u001b[0m\n\u001b[0;32m      4\u001b[0m \u001b[1;32mfinally\u001b[0m\u001b[1;33m:\u001b[0m\u001b[1;33m\u001b[0m\u001b[0m\n\u001b[0;32m      5\u001b[0m     \u001b[0mprint\u001b[0m\u001b[1;33m(\u001b[0m\u001b[1;34m\"Division by Zero.\"\u001b[0m\u001b[1;33m)\u001b[0m\u001b[1;33m\u001b[0m\u001b[0m\n",
        "\u001b[1;31mZeroDivisionError\u001b[0m: division by zero"
       ]
      }
     ],
     "prompt_number": 4
    },
    {
     "cell_type": "markdown",
     "metadata": {},
     "source": [
      "### Exceptions erzeugen\n",
      "* Manchmal ist es sinnvoll eine Exception zu erzeugen\n",
      "* Beispiel: Einer Berechnungs-Software wird ein Text vorgegeben, anstatt einer Ziffer"
     ]
    },
    {
     "cell_type": "code",
     "collapsed": false,
     "input": [
      "def print_number(integer_number):\n",
      "    if type(integer_number) is not int:\n",
      "        raise TypeError(\"'{}' is not an integer number\".format(integer_number))\n",
      "    else:\n",
      "        print(integer_number)\n",
      "\n",
      "print_number(12)\n",
      "print_number(\"Klaus\")"
     ],
     "language": "python",
     "metadata": {},
     "outputs": [
      {
       "output_type": "stream",
       "stream": "stdout",
       "text": [
        "12\n"
       ]
      },
      {
       "ename": "TypeError",
       "evalue": "'Klaus' is not an integer number",
       "output_type": "pyerr",
       "traceback": [
        "\u001b[1;31m---------------------------------------------------------------------------\u001b[0m\n\u001b[1;31mTypeError\u001b[0m                                 Traceback (most recent call last)",
        "\u001b[1;32m<ipython-input-9-ddf4c076432b>\u001b[0m in \u001b[0;36m<module>\u001b[1;34m()\u001b[0m\n\u001b[0;32m      6\u001b[0m \u001b[1;33m\u001b[0m\u001b[0m\n\u001b[0;32m      7\u001b[0m \u001b[0mprint_number\u001b[0m\u001b[1;33m(\u001b[0m\u001b[1;36m12\u001b[0m\u001b[1;33m)\u001b[0m\u001b[1;33m\u001b[0m\u001b[0m\n\u001b[1;32m----> 8\u001b[1;33m \u001b[0mprint_number\u001b[0m\u001b[1;33m(\u001b[0m\u001b[1;34m\"Klaus\"\u001b[0m\u001b[1;33m)\u001b[0m\u001b[1;33m\u001b[0m\u001b[0m\n\u001b[0m",
        "\u001b[1;32m<ipython-input-9-ddf4c076432b>\u001b[0m in \u001b[0;36mprint_number\u001b[1;34m(integer_number)\u001b[0m\n\u001b[0;32m      1\u001b[0m \u001b[1;32mdef\u001b[0m \u001b[0mprint_number\u001b[0m\u001b[1;33m(\u001b[0m\u001b[0minteger_number\u001b[0m\u001b[1;33m)\u001b[0m\u001b[1;33m:\u001b[0m\u001b[1;33m\u001b[0m\u001b[0m\n\u001b[0;32m      2\u001b[0m     \u001b[1;32mif\u001b[0m \u001b[0mtype\u001b[0m\u001b[1;33m(\u001b[0m\u001b[0minteger_number\u001b[0m\u001b[1;33m)\u001b[0m \u001b[1;32mis\u001b[0m \u001b[1;32mnot\u001b[0m \u001b[0mint\u001b[0m\u001b[1;33m:\u001b[0m\u001b[1;33m\u001b[0m\u001b[0m\n\u001b[1;32m----> 3\u001b[1;33m         \u001b[1;32mraise\u001b[0m \u001b[0mTypeError\u001b[0m\u001b[1;33m(\u001b[0m\u001b[1;34m\"'{}' is not an integer number\"\u001b[0m\u001b[1;33m.\u001b[0m\u001b[0mformat\u001b[0m\u001b[1;33m(\u001b[0m\u001b[0minteger_number\u001b[0m\u001b[1;33m)\u001b[0m\u001b[1;33m)\u001b[0m\u001b[1;33m\u001b[0m\u001b[0m\n\u001b[0m\u001b[0;32m      4\u001b[0m     \u001b[1;32melse\u001b[0m\u001b[1;33m:\u001b[0m\u001b[1;33m\u001b[0m\u001b[0m\n\u001b[0;32m      5\u001b[0m         \u001b[0mprint\u001b[0m\u001b[1;33m(\u001b[0m\u001b[0minteger_number\u001b[0m\u001b[1;33m)\u001b[0m\u001b[1;33m\u001b[0m\u001b[0m\n",
        "\u001b[1;31mTypeError\u001b[0m: 'Klaus' is not an integer number"
       ]
      }
     ],
     "prompt_number": 9
    },
    {
     "cell_type": "code",
     "collapsed": false,
     "input": [
      "# Versuche 3 verschiedene Arten von Exceptions durch \"b\u00f6se\" Programme zu erzeugen.\n",
      "# Was k\u00f6nnte man in der Praxis gegen diese tun?"
     ],
     "language": "python",
     "metadata": {},
     "outputs": []
    }
   ],
   "metadata": {}
  }
 ]
}