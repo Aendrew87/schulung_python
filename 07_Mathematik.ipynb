{
 "metadata": {
  "name": "",
  "signature": "sha256:e3fa693a26bb7ab5537567f3fa005ab69c0fe21de2ed329ef580630bb2082318"
 },
 "nbformat": 3,
 "nbformat_minor": 0,
 "worksheets": [
  {
   "cells": [
    {
     "cell_type": "markdown",
     "metadata": {},
     "source": [
      "Mathematik\n",
      "--------------\n",
      "\n",
      "### Einfache Operationen\n",
      "* Python kann eine Vielzahl von Mathematischen Operationen mit Variablen\n",
      "* Weitere Operationen k\u00f6nnen in Modulen (sp\u00e4ter) nachgeladen werden"
     ]
    },
    {
     "cell_type": "code",
     "collapsed": false,
     "input": [
      "# Aufgabe: Kommentiere, was welche Zeile bedeutet\n",
      "# Tipp: \u00c4ndere den Wert von x zum Ausprobieren \n",
      "\n",
      "x = 5\n",
      "# 5 x 5 = 25\n",
      "print(x * x)\n",
      "# ...\n",
      "print(x / 3)\n",
      "# ...\n",
      "print(x // 3)\n",
      "# ...\n",
      "print(x % 3)\n",
      "# ...\n",
      "print(x ** 3)\n",
      "# ...\n",
      "print(round(x / 3))"
     ],
     "language": "python",
     "metadata": {},
     "outputs": [
      {
       "output_type": "stream",
       "stream": "stdout",
       "text": [
        "25\n",
        "1.6666666666666667\n",
        "1\n",
        "2\n",
        "125\n",
        "2\n"
       ]
      }
     ],
     "prompt_number": 6
    },
    {
     "cell_type": "code",
     "collapsed": false,
     "input": [
      "# Aufgabe: Schreibe ein Programm, welches Eingaben entgegen nimmt, Berechnungen durchf\u00fchrt und Ergebnis ausgibt f\u00fcr...\n",
      "\n",
      "\n",
      "# Entfernung, Zeit => Geschwindigkeit\n",
      "\n",
      "\n",
      "# Zuckergehalt von Marmelade, Menge an Marmelade => Zuckermenge\n",
      "\n",
      "\n",
      "# Monatliches Gehalt, Anzahl der Arbeitsmonate => Gehalt f\u00fcr diese Zeit\n",
      "\n",
      "\n",
      "# Im Restaurant:\n",
      "# Rechnungsbetrag in Euro (ganzzahliger Wert), Anzahl der Bezahlenden => Betrag pro Person, Wie viel bleibt \u00fcbrig?\n",
      "# (Beispiel: 4 Euro auf 3 Personen geht nicht auf)\n"
     ],
     "language": "python",
     "metadata": {},
     "outputs": [],
     "prompt_number": "*"
    }
   ],
   "metadata": {}
  }
 ]
}