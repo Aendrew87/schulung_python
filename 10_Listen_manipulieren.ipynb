{
 "metadata": {
  "name": "",
  "signature": "sha256:6c1fdfbb099f467d23da630cd26dbc9d5ff3fac3ebca560441bd7a82acf449f4"
 },
 "nbformat": 3,
 "nbformat_minor": 0,
 "worksheets": [
  {
   "cells": [
    {
     "cell_type": "markdown",
     "metadata": {},
     "source": [
      "### Listen manipulieren\n",
      "* Zu Listen k\u00f6nnen Elemente\n",
      "    * hinzugef\u00fcgt werden\n",
      "    * gel\u00f6scht werden\n",
      "* Listen selbst k\u00f6nnen\n",
      "    * sortiert werden\n",
      "    * umgedreht werden\n",
      "    * u.v.m.  \n"
     ]
    },
    {
     "cell_type": "code",
     "collapsed": false,
     "input": [
      "drinks = [\"Kaffee\", \"Milch\", \"Orangensaft\"]\n",
      "print(drinks)\n",
      "\n",
      "# ...\n",
      "drinks.append(\"Wasser\")\n",
      "print(drinks)\n",
      "\n",
      "# ...\n",
      "drinks.insert(2,\"Kakao\")\n",
      "print(drinks)\n",
      "\n",
      "# ...\n",
      "drinks.remove(\"Kaffee\")\n",
      "print(drinks)"
     ],
     "language": "python",
     "metadata": {},
     "outputs": [
      {
       "output_type": "stream",
       "stream": "stdout",
       "text": [
        "['Kaffee', 'Milch', 'Orangensaft']\n",
        "['Kaffee', 'Milch', 'Orangensaft', 'Wasser']\n",
        "['Kaffee', 'Milch', 'Kakao', 'Orangensaft', 'Wasser']\n",
        "['Milch', 'Kakao', 'Orangensaft', 'Wasser']\n"
       ]
      }
     ],
     "prompt_number": 6
    },
    {
     "cell_type": "code",
     "collapsed": false,
     "input": [
      "drinks = [\"Kaffee\", \"Milch\", \"Orangensaft\"]\n",
      "print(drinks)\n",
      "\n",
      "# ...\n",
      "print(drinks.pop())\n",
      "print(drinks)\n",
      "\n",
      "print(drinks.pop())\n",
      "print(drinks)\n",
      "\n",
      "print(drinks.pop())\n",
      "print(drinks)\n",
      "\n",
      "# ... ?\n",
      "# print(drinks.pop())\n",
      "# print(drinks)"
     ],
     "language": "python",
     "metadata": {},
     "outputs": [
      {
       "output_type": "stream",
       "stream": "stdout",
       "text": [
        "['Kaffee', 'Milch', 'Orangensaft']\n",
        "Orangensaft\n",
        "['Kaffee', 'Milch']\n",
        "Milch\n",
        "['Kaffee']\n",
        "Kaffee\n",
        "[]\n"
       ]
      }
     ],
     "prompt_number": 12
    },
    {
     "cell_type": "code",
     "collapsed": false,
     "input": [
      "drinks = [\"Cola\", \"Apfelsaft\", \"Bananen-Nektar\"]\n",
      "print(drinks)\n",
      "# ...\n",
      "drinks.sort()\n",
      "print(drinks)\n",
      "# ...\n",
      "drinks.reverse()\n",
      "print(drinks)\n"
     ],
     "language": "python",
     "metadata": {},
     "outputs": [
      {
       "output_type": "stream",
       "stream": "stdout",
       "text": [
        "['Cola', 'Apfelsaft', 'Bananen-Nektar']\n",
        "['Apfelsaft', 'Bananen-Nektar', 'Cola']\n",
        "['Cola', 'Bananen-Nektar', 'Apfelsaft']\n"
       ]
      }
     ],
     "prompt_number": 17
    },
    {
     "cell_type": "code",
     "collapsed": false,
     "input": [
      "# Aufgabe: Schreibe ein Programm, dass 3 Benutzernamen einliest\n",
      "\n",
      "# Dann sollen alle 3 Elemente ausgegeben werden\n",
      "\n",
      "# Dann in umgedrehter Reihenfolge\n",
      "\n",
      "# Dann das mittlere Element\n",
      "\n",
      "# Zuletzt sollen ein Element ausgegeben werden und aus der Liste entfernt\n",
      "# Die verbleibenden 2 Elemente sollen als Liste ausgegeben werden (d.h. die verbleibende Liste ohne das entfernte Element)"
     ],
     "language": "python",
     "metadata": {},
     "outputs": []
    }
   ],
   "metadata": {}
  }
 ]
}