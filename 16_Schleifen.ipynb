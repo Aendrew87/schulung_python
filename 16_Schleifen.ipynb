{
 "metadata": {
  "name": "",
  "signature": "sha256:e560d85cdf32788d16668281d8406883c5de7a15ba58f5277b335b1e9080ee34"
 },
 "nbformat": 3,
 "nbformat_minor": 0,
 "worksheets": [
  {
   "cells": [
    {
     "cell_type": "markdown",
     "metadata": {},
     "source": [
      "Schleifen\n",
      "--------------\n",
      "### Grundlagen\n",
      "* Um Daten-Mengen (z.B. Listen) abzuarbeiten, ist es oft notwendig, jeden Wert einzeln zu benutzen\n",
      "* Hierzu gibt es Schleifen, die alle Werte einer Menge (z.B. Liste) durchlaufen und f\u00fcr jeden Wert eine Aktion durchf\u00fchren"
     ]
    },
    {
     "cell_type": "code",
     "collapsed": false,
     "input": [
      "obstsorten = [\"Banane\", \"Birne\", \"Apfel\", \"Mango\"]\n",
      "for obst in obstsorten:\n",
      "    print(obst)"
     ],
     "language": "python",
     "metadata": {},
     "outputs": [
      {
       "output_type": "stream",
       "stream": "stdout",
       "text": [
        "Banane\n",
        "Birne\n",
        "Apfel\n",
        "Mango\n"
       ]
      }
     ],
     "prompt_number": 1
    },
    {
     "cell_type": "markdown",
     "metadata": {},
     "source": [
      "* Unterschiede zu C# / C++\n",
      "    * Entspricht foreach \n",
      "    * Funktioniert auf allem, was iterable ist, also \n",
      "        * Tupel \n",
      "        * Listen \n",
      "        * Dictionaries (Werte) \n",
      "        * u.v.m. \n",
      "\n"
     ]
    },
    {
     "cell_type": "code",
     "collapsed": false,
     "input": [
      "summed_up = 0\n",
      "numbers = [0,1,2,3,4,5,6,7,8,9,10]\n",
      "for number in numbers:\n",
      "    summed_up = summed_up + number\n",
      "print(summed_up)\n",
      "\n",
      "# Kontrolle durch eingebauter Methode\n",
      "print(sum(numbers))"
     ],
     "language": "python",
     "metadata": {},
     "outputs": [
      {
       "output_type": "stream",
       "stream": "stdout",
       "text": [
        "55\n",
        "55\n"
       ]
      }
     ],
     "prompt_number": 8
    },
    {
     "cell_type": "markdown",
     "metadata": {},
     "source": [
      "### Enumerate\n",
      "* Braucht man beim Durchschreiten einer Liste den jeweiligen Index, kann man diesen selbst erstellen oder mittels **enumerate** bekommen:"
     ]
    },
    {
     "cell_type": "code",
     "collapsed": false,
     "input": [
      "obstsorten = [\"Banane\", \"Birne\", \"Apfel\", \"Mango\"]\n",
      "\n",
      "index = 0\n",
      "for obst in obstsorten:\n",
      "    print (\"{}: {}\".format(index, obst))\n",
      "    index = index+1"
     ],
     "language": "python",
     "metadata": {},
     "outputs": [
      {
       "output_type": "stream",
       "stream": "stdout",
       "text": [
        "0: Banane\n",
        "1: Birne\n",
        "2: Apfel\n",
        "3: Mango\n"
       ]
      }
     ],
     "prompt_number": 9
    },
    {
     "cell_type": "code",
     "collapsed": false,
     "input": [
      "# oder einfach so:\n",
      "for index, obst in enumerate(obstsorten):\n",
      "    print(\"{}: {}\".format(index, obst))"
     ],
     "language": "python",
     "metadata": {},
     "outputs": [
      {
       "output_type": "stream",
       "stream": "stdout",
       "text": [
        "0: Banane\n",
        "1: Birne\n",
        "2: Apfel\n",
        "3: Mango\n"
       ]
      }
     ],
     "prompt_number": 10
    },
    {
     "cell_type": "code",
     "collapsed": false,
     "input": [],
     "language": "python",
     "metadata": {},
     "outputs": []
    },
    {
     "cell_type": "code",
     "collapsed": false,
     "input": [
      "# Aufgabe: Erstelle ein Programm mit einer Liste von Benutzernnamen und ihren jeweilgen BenutzerIDs\n",
      "# Welche Datentypen sind geeignet?\n",
      "# Gebe alle Benutzer mit ihren jeweiligen BenutzerIDs mit Hilfe von 'for' aus\n"
     ],
     "language": "python",
     "metadata": {},
     "outputs": []
    }
   ],
   "metadata": {}
  }
 ]
}