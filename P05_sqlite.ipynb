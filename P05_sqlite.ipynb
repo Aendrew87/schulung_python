{
 "metadata": {
  "name": "",
  "signature": "sha256:3fc2bd1212acca4ac155ea83b32e55bdcf2207d63425d5dd0695e2952165a9c8"
 },
 "nbformat": 3,
 "nbformat_minor": 0,
 "worksheets": [
  {
   "cells": [
    {
     "cell_type": "markdown",
     "metadata": {},
     "source": [
      "SQLite\n",
      "-------------------\n",
      "\n",
      "* Simple Datenbank\n",
      "* Datenbank komplett in einer Datei beinhaltet\n",
      "* Wenn Du noch nie SQL gesehen hast: Nicht verzweifeln!"
     ]
    },
    {
     "cell_type": "code",
     "collapsed": false,
     "input": [
      "# Datenbank erstellen\n",
      "import sqlite3\n",
      "# Verbindung namens \"conn\"\n",
      "conn = sqlite3.connect(\"meineDatenbank.db\")\n",
      "# Cursor erstellen\n",
      "c = conn.cursor()\n",
      "# Alte Tabellen wegwerfen (falls vorhanden)\n",
      "c.execute(\"\"\"drop table if exists person\"\"\")\n",
      "conn.commit()\n",
      "\n",
      "# Erstelle Tabelle namens \"Person\" mit den Spalten \"ID\" und \"FAMILY_NAME\" und \"GIVEN_NAME\"\n",
      "c.execute(\"\"\"create table PERSON (ID INTEGER PRIMARY KEY AUTOINCREMENT,FAMILY_NAME TEXT, GIVEN_NAME TEXT)\"\"\")\n",
      "# Tabele mit Inhalten fuellen\n",
      "c.execute(\"INSERT into person (GIVEN_NAME, FAMILY_NAME) VALUES('Klaus', 'Schmidt')\")\n",
      "c.execute(\"INSERT into person (GIVEN_NAME, FAMILY_NAME) VALUES('Annika', 'Jenneck')\")\n",
      "c.execute(\"INSERT into person (GIVEN_NAME, FAMILY_NAME) VALUES('Petra', 'Reinlich')\")\n",
      "\n",
      "users = c.execute(\"Select * from person\")\n",
      "for user in users:\n",
      "    print (user)\n",
      "    \n",
      "users = c.execute(\"Select * from person\")\n",
      "for id, nachname, vorname in users:\n",
      "    print(\"{} {} hat die ID {}\".format(vorname, nachname, id))\n",
      "    \n",
      "\n",
      "c.close()\n",
      "conn.close()\n"
     ],
     "language": "python",
     "metadata": {},
     "outputs": [
      {
       "output_type": "stream",
       "stream": "stdout",
       "text": [
        "(1, 'Schmidt', 'Klaus')\n",
        "(2, 'Jenneck', 'Annika')\n",
        "(3, 'Reinlich', 'Petra')\n",
        "Klaus Schmidt hat die ID 1\n",
        "Annika Jenneck hat die ID 2\n",
        "Petra Reinlich hat die ID 3\n"
       ]
      }
     ],
     "prompt_number": 5
    },
    {
     "cell_type": "code",
     "collapsed": false,
     "input": [],
     "language": "python",
     "metadata": {},
     "outputs": [],
     "prompt_number": 0
    },
    {
     "cell_type": "code",
     "collapsed": false,
     "input": [],
     "language": "python",
     "metadata": {},
     "outputs": []
    }
   ],
   "metadata": {}
  }
 ]
}