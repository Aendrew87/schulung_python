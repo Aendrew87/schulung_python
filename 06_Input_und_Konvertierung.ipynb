{
 "metadata": {
  "name": "",
  "signature": "sha256:f74b3db7a5203e283298b5b22ea4092002080cdafb96f1e5f044db0c91988086"
 },
 "nbformat": 3,
 "nbformat_minor": 0,
 "worksheets": [
  {
   "cells": [
    {
     "cell_type": "markdown",
     "metadata": {},
     "source": [
      "Input und Konvertierung\n",
      "------------------------\n",
      "\n",
      "### String Formatierung (Basics)\n",
      "* Ausgaben sollen oft formatiert sein\n",
      "* Ausgaben sollen Werte enthalten\n",
      "* Einfach zu L\u00f6sen mit *format*\n",
      "* [Mehr Informationen zu sch\u00f6ner Ausgabe](https://docs.python.org/3.4/library/string.html#formatspec)"
     ]
    },
    {
     "cell_type": "code",
     "collapsed": false,
     "input": [
      "name = \"Klaus\"\n",
      "text = \"Hallo {}\".format(name)\n",
      "print(text)"
     ],
     "language": "python",
     "metadata": {},
     "outputs": [
      {
       "output_type": "stream",
       "stream": "stdout",
       "text": [
        "Hallo Klaus\n"
       ]
      }
     ],
     "prompt_number": 12
    },
    {
     "cell_type": "code",
     "collapsed": false,
     "input": [
      "name = \"Klaus\"\n",
      "city = \"N\u00fcrnberg\"\n",
      "print(\"{} wohnt in {}\".format(name, city))"
     ],
     "language": "python",
     "metadata": {},
     "outputs": [
      {
       "output_type": "stream",
       "stream": "stdout",
       "text": [
        "Klaus wohnt in N\u00fcrnberg\n"
       ]
      }
     ]
    },
    {
     "cell_type": "code",
     "collapsed": false,
     "input": [
      "# Aufgabe: Schreibe ein Programm, dass folgendes Ausgibt: \n",
      "#\n",
      "# Philipp hat die userid [9108]\n",
      "# Username: DATEV_MD\\T9108A\n",
      "# Mailaddress: mail@philipp-weissmann.de\n",
      "# \n",
      "name = \"Philipp\"\n",
      "userid = 9108\n",
      "mail = \"mail@philipp-weissmann.de\"\n",
      "\n",
      "# ..."
     ],
     "language": "python",
     "metadata": {},
     "outputs": []
    },
    {
     "cell_type": "markdown",
     "metadata": {},
     "source": [
      "### Input\n",
      "* Bei interaktiven Programmen kann ein Benutzer nach einer Eingabe gefragt werden\n",
      "* Diese wird durch ein *Return* Abgeschlossen\n",
      "* Die Eingabe ist immer vom Typ *string*"
     ]
    },
    {
     "cell_type": "code",
     "collapsed": false,
     "input": [
      "print(\"Wie heisst Du?\")\n",
      "name = input()\n",
      "print(\"Hallo {}\".format(name))"
     ],
     "language": "python",
     "metadata": {},
     "outputs": [
      {
       "output_type": "stream",
       "stream": "stdout",
       "text": [
        "Wie heisst Du?\n"
       ]
      }
     ]
    },
    {
     "cell_type": "markdown",
     "metadata": {},
     "source": [
      "* Problem: Mit Strings kann man z.B. nicht rechnen"
     ]
    },
    {
     "cell_type": "code",
     "collapsed": false,
     "input": [
      "print(\"Wie alt bist Du?\")\n",
      "alter = input()\n",
      "alter = alter + 5\n",
      "print(\"In 5 Jahren bist Du {}\".format(alter))"
     ],
     "language": "python",
     "metadata": {},
     "outputs": []
    },
    {
     "cell_type": "markdown",
     "metadata": {},
     "source": [
      "* Explizites Konvertieren des Strings nach Integer notwendig"
     ]
    },
    {
     "cell_type": "code",
     "collapsed": false,
     "input": [
      "print(\"Wie alt bist Du?\")\n",
      "alter = int(input())\n",
      "alter = alter + 5\n",
      "print(\"In 5 Jahren bist Du {}\".format(alter))"
     ],
     "language": "python",
     "metadata": {},
     "outputs": []
    },
    {
     "cell_type": "markdown",
     "metadata": {},
     "source": [
      "* Falls kein g\u00fcltiger Integer-Wert eingegeben wird, passiert immer noch ein Fehler\n",
      "* Um dies zu behandeln brauchen wir *Exception-Handling* (sp\u00e4ter)"
     ]
    },
    {
     "cell_type": "code",
     "collapsed": false,
     "input": [
      "# Aufgabe: Schreibe ein Programm, welches ein Geburtsjahr einliest\n",
      "# Mit Hilfe des gegenwaertigen Jahres (als feste Variable setzen)\n",
      "# soll ausgegeben werden, wie alt die Person ist.\n",
      "# (Annahme: Die Person hatte dieses Jahr schon Geburtstag)\n",
      "\n",
      "# ...\n",
      "\n"
     ],
     "language": "python",
     "metadata": {},
     "outputs": []
    }
   ],
   "metadata": {}
  }
 ]
}