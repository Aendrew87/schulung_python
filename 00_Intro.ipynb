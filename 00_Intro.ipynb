{
 "metadata": {
  "name": "",
  "signature": "sha256:24e0369eb172ec383a05f81f372c26d06646472f04fe01f2ea97c8f6b5fdd4b6"
 },
 "nbformat": 3,
 "nbformat_minor": 0,
 "worksheets": [
  {
   "cells": [
    {
     "cell_type": "markdown",
     "metadata": {},
     "source": [
      "Kontaktdaten:\n",
      "------------------\n",
      "* Philipp Wei\u00dfmann\n",
      "* mail@philipp-weissmann.de\n",
      "* +49 162 42 52 802\n",
      "\n",
      "\n",
      "\n",
      "\n",
      "![Python is fun](http://imgs.xkcd.com/comics/python.png \"Python is fun\") \n",
      "\n",
      "Intro\n",
      "====================\n",
      "\n",
      "### Dieses Dokument\n",
      "* Dieses Dokument kann und soll editiert werden\n",
      "* Die Unterlagen sind absichtlich mit L\u00fccken versehen, die Du f\u00fcllen kannst\n",
      "* F\u00fcr Notizen und \"herumspielen\" mit Code ist in diesem Kurs genug Zeit - bitte melde Dich, wenn Du bei einer \u00dcbung mehr Zeit m\u00f6chtest\n",
      "* Mein Ziel f\u00fcr diesen Kurs, ist es Dir einen Start zu geben\n",
      "\n",
      "### Meine Bitte\n",
      "* Stelle Fragen\n",
      "* Hinterfage Dinge\n",
      "* Probiere Dinge aus\n",
      "* Habe Spa\u00df"
     ]
    },
    {
     "cell_type": "code",
     "collapsed": false,
     "input": [],
     "language": "python",
     "metadata": {},
     "outputs": []
    }
   ],
   "metadata": {}
  }
 ]
}