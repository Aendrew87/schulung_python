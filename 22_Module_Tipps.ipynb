{
 "metadata": {
  "name": "",
  "signature": "sha256:1f6c44ba5856a06351715ada3a4e3205e1d0baf41f7d89d66f4130522a5ac28d"
 },
 "nbformat": 3,
 "nbformat_minor": 0,
 "worksheets": [
  {
   "cells": [
    {
     "cell_type": "markdown",
     "metadata": {},
     "source": [
      "Tipps zu Modulen\n",
      "------------------\n",
      "### Tipps\n",
      "\n",
      "* Einige wichtige Module:\n",
      "    * sys System-Spezifisches; Auch: Kommandozeilenargumente in **sys.args**\n",
      "    * os (Betriebssystem Operationen, z.B. 'existiert Datei')\n",
      "    * math (Mathematische Operationen, z.B. math.ceil (Aufrunden))\n",
      "    * re (Regul\u00e4re Ausdr\u00fccke)\n",
      "    \n",
      "### Weitere tolle Module\n",
      "\n",
      "* Nicht bei Python 'von Haus aus' mit dabei, jedoch bei Anaconda Distribution\n",
      "    * [Docopt](http://docopt.org/): Sch\u00f6nes Definieren und Parsen von Kommandozeilenparametern\n",
      "    * [Requests](http://docs.python-requests.org/en/latest/): HTTP Anfragen (\"HTTP for Humans\")\n",
      "    * [Beautifulsoup](http://www.crummy.com/software/BeautifulSoup/): (X)HTML Parsing\n",
      "    * [Pillow](https://pillow.readthedocs.org/): Ver- und Bearbeitung von Bildern\n",
      "    * [Numpy](http://www.numpy.org/): Bilbiothek f\u00fcr Mathematik im gro\u00dfen (Numerik)\n",
      "    * [pyQt](http://www.riverbankcomputing.co.uk/software/pyqt/intro) oder [pyside](http://qt-project.org/wiki/PySide): [Qt](http://qt-project.org/) Binding f\u00fcr Python (Oberfl\u00e4chen Bilbliothek)\n",
      "    * [IPython](http://ipython.org/): Verbesserter Python Prompt, Notebook"
     ]
    },
    {
     "cell_type": "code",
     "collapsed": false,
     "input": [],
     "language": "python",
     "metadata": {},
     "outputs": []
    }
   ],
   "metadata": {}
  }
 ]
}