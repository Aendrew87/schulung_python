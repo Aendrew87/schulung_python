{
 "metadata": {
  "name": "",
  "signature": "sha256:298a5ccddaf4de60dbe1db4d19479beee40751bb8647b87818a54c2b5383f9be"
 },
 "nbformat": 3,
 "nbformat_minor": 0,
 "worksheets": [
  {
   "cells": [
    {
     "cell_type": "markdown",
     "metadata": {},
     "source": [
      "### R\u00fcckgabewerte\n",
      "* Eine Methode kann(!) einen R\u00fcckgabewert haben\n",
      "* Der Typ ist nicht vorgeschrieben und kann unterschiedlich sein"
     ]
    },
    {
     "cell_type": "code",
     "collapsed": false,
     "input": [
      "def multiply(a, b):\n",
      "    return a * b\n",
      "\n",
      "print(multiply(3,5))"
     ],
     "language": "python",
     "metadata": {},
     "outputs": [
      {
       "output_type": "stream",
       "stream": "stdout",
       "text": [
        "15\n"
       ]
      }
     ],
     "prompt_number": 1
    },
    {
     "cell_type": "code",
     "collapsed": false,
     "input": [
      "def combination(a, b):\n",
      "    plus = a + b\n",
      "    minus = a - b\n",
      "    multiply = a * b\n",
      "    return plus, minus, multiply\n",
      "\n",
      "# Welcher Typ ist numbers?\n",
      "numbers = combination(3, 5)\n",
      "print(numbers)\n",
      "\n",
      "# ...\n",
      "pl, mi, mu = combination(3,5)\n",
      "print(pl)\n",
      "print(mi)\n",
      "print(mu)"
     ],
     "language": "python",
     "metadata": {},
     "outputs": [],
     "prompt_number": 3
    },
    {
     "cell_type": "markdown",
     "metadata": {},
     "source": [
      "### Verschachtelung\n",
      "* Eine Methode kann weitere Methoden aufrufen\n",
      "* Eine Methode kann weitere Methoden enthalten (Aber: \u00dcbersichtlichkeit!)"
     ]
    },
    {
     "cell_type": "code",
     "collapsed": false,
     "input": [
      "# Aufgabe: Erstelle eine Methode, die eine Zahl negiert\n",
      "\n",
      "\n",
      "# Aufgabe: Erstelle eine Methode, die als Parameter den Namen eines Benutzers erh\u00e4lt. \n",
      "# Als R\u00fcckgabewert soll ein Gru\u00df an diese Person zur\u00fcckgegeben werden.\n",
      "\n"
     ],
     "language": "python",
     "metadata": {},
     "outputs": []
    }
   ],
   "metadata": {}
  }
 ]
}