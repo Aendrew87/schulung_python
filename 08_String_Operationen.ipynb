{
 "metadata": {
  "name": "",
  "signature": "sha256:a4dc826e7254434f471264aee055e36207317a6502838a0a4eff40002691e436"
 },
 "nbformat": 3,
 "nbformat_minor": 0,
 "worksheets": [
  {
   "cells": [
    {
     "cell_type": "markdown",
     "metadata": {},
     "source": [
      "String-Operationen\n",
      "----------------------\n",
      "\n",
      "* Um Strings (d.h. Zeichenketten) zu manipulieren, gibt es viele eingebaute Methoden\n",
      "* Wichtig: Wir ver\u00e4ndern dadurch die Variable nicht"
     ]
    },
    {
     "cell_type": "code",
     "collapsed": false,
     "input": [
      "# Aufgabe: Was macht welche Zeile?\n",
      "\n",
      "s = \"hallo Welt, wie geht es Dir heute morgen vor 12 Uhr? \"\n",
      "\n",
      "# ...\n",
      "print(s.upper())\n",
      "# ...\n",
      "print(s.lower())\n",
      "# ...\n",
      "print(s.replace(\"Welt\", \"Kurs\"))\n",
      "# ...\n",
      "print(s.capitalize())\n",
      "# ...\n",
      "print(s.find(\"Welt\"))\n",
      "# Kniffelig:\n",
      "# ... \n",
      "print(s.strip())"
     ],
     "language": "python",
     "metadata": {},
     "outputs": [
      {
       "output_type": "stream",
       "stream": "stdout",
       "text": [
        "HALLO WELT, WIE GEHT ES DIR HEUTE MORGEN VOR 12 UHR? \n",
        "hallo welt, wie geht es dir heute morgen vor 12 uhr? \n",
        "hallo Kurs, wie geht es Dir heute morgen vor 12 Uhr? \n",
        "Hallo welt, wie geht es dir heute morgen vor 12 uhr? \n",
        "6\n",
        "hallo Welt, wie geht es Dir heute morgen vor 12 Uhr?\n"
       ]
      }
     ],
     "prompt_number": 13
    },
    {
     "cell_type": "code",
     "collapsed": false,
     "input": [
      "# Aufgabe: Schreibe ein Programm, dass den Namen eines Benutzers einliest und diesen Ausgibt:\n",
      "\n",
      "# Komplett in Grossbuchstaben\n",
      "\n",
      "# Komplett in Kleinbuchstaben\n",
      "\n",
      "# Mit Umlauten ersetzt (\u00df => ss, '\u00e4' => 'ae', usw.)\n",
      "\n",
      "# Was passiert, wenn ein Leerzeichen beim Namen dabei ist? Wie werde ich es los?\n"
     ],
     "language": "python",
     "metadata": {},
     "outputs": [],
     "prompt_number": "*"
    }
   ],
   "metadata": {}
  }
 ]
}