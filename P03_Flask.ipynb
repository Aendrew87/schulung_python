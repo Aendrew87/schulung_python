{
 "metadata": {
  "name": "",
  "signature": "sha256:33a67798ffc12090ed0cefbf413bb10e8c7720bee964c8df097da80d068ad084"
 },
 "nbformat": 3,
 "nbformat_minor": 0,
 "worksheets": [
  {
   "cells": [
    {
     "cell_type": "markdown",
     "metadata": {},
     "source": [
      "Webseite mit Flask\n",
      "-------------\n",
      "\n",
      "* Idee: Dynamische Webseite mit Trennung von Daten und Ansicht ([MVC](http://de.wikipedia.org/wiki/Model_View_Controller))\n",
      "* Es gibt mehrere gute Frameworks\n",
      "* Wahl hier: [Flask](http://de.wikipedia.org/wiki/Flask)\n",
      "    * Sehr klein\n",
      "    * Schnell\n",
      "    * Simpel\n",
      "    * Aber m\u00e4chtig\n",
      "    * Popul\u00e4r\n",
      "* Funktioniert nicht aus IPython heraus\n",
      "* Folgende Dateistruktur soll angelegt werden:\n",
      "\n",
      "* meinBlog/\n",
      "    * main.py\n",
      "    * app/\n",
      "        * \\_\\_init\\_\\_.py\n",
      "        * views.py\n",
      "    * app/\n",
      "        * templates/\n",
      "            * index.html\n",
      "* Start von main.py\n"
     ]
    },
    {
     "cell_type": "code",
     "collapsed": false,
     "input": [
      "# main.py\n",
      "\n",
      "#!flask/bin/python\n",
      "\n",
      "from app import app\n",
      "app.run(debug=True)\n"
     ],
     "language": "python",
     "metadata": {},
     "outputs": []
    },
    {
     "cell_type": "code",
     "collapsed": false,
     "input": [
      "# __init__.py\n",
      "\n",
      "# app/__init__.py\n",
      "from flask import Flask\n",
      "\n",
      "app = Flask(__name__)\n",
      "from app import views\n"
     ],
     "language": "python",
     "metadata": {},
     "outputs": []
    },
    {
     "cell_type": "code",
     "collapsed": false,
     "input": [
      "# views.py\n",
      "\n",
      "from flask import render_template\n",
      "from app import app\n",
      "\n",
      "\n",
      "@app.route('/')\n",
      "@app.route('/index')\n",
      "def index():\n",
      "    user = {'nickname': 'Philipp'}\n",
      "    posts = [\n",
      "        {\n",
      "            'author': {'nickname': 'Peter'},\n",
      "            'body': 'Mein Rezept fuer gebrannte Mandeln'\n",
      "        },\n",
      "        {\n",
      "            'author': {'nickname': 'Andrea'},\n",
      "            'body': 'Die 10 besten Zombiefilme'\n",
      "        }\n",
      "    ]\n",
      "    return render_template(\"index.html\", title='Home', user=user, posts=posts)\n"
     ],
     "language": "python",
     "metadata": {},
     "outputs": []
    },
    {
     "cell_type": "raw",
     "metadata": {},
     "source": [
      "# index.html\n",
      "\n",
      "<!DOCTYPE html>\n",
      "<html>\n",
      "<head lang=\"en\">\n",
      "    <meta charset=\"UTF-8\">\n",
      "    <title>{{ title }}</title>\n",
      "</head>\n",
      "<body>\n",
      "Hallo {{ user[\"nickname\"] }}\n",
      "\n",
      "</body>\n",
      "</html>"
     ]
    },
    {
     "cell_type": "code",
     "collapsed": false,
     "input": [],
     "language": "python",
     "metadata": {},
     "outputs": []
    }
   ],
   "metadata": {}
  }
 ]
}