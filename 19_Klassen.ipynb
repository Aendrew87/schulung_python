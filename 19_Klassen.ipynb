{
 "metadata": {
  "name": "",
  "signature": "sha256:beeee44490e17f9f31078caf92c1ccfea5ebe48faf65a1126880e6a890067d13"
 },
 "nbformat": 3,
 "nbformat_minor": 0,
 "worksheets": [
  {
   "cells": [
    {
     "cell_type": "markdown",
     "metadata": {},
     "source": [
      "Klassen\n",
      "------------------\n",
      "\n",
      "### Grundlagen\n",
      "* Der Wunsch Daten zu Kapseln: Listen, Dicionaries, ...\n",
      "* Der Wunsch Operationen wieder zu verwenden: Methoden\n",
      "* Der Wunsch Daten und dazu passende Operationen zu B\u00fcndeln: Klassen\n",
      "* Definition: Klasse; Instanz einer Klasse: Objekt"
     ]
    },
    {
     "cell_type": "code",
     "collapsed": false,
     "input": [
      "class Person(object):\n",
      "    # ...\n",
      "    def __init__(self, name):\n",
      "        # ...\n",
      "        self.name = name\n",
      "    # ...\n",
      "    def greet(self):\n",
      "        print(\"{} sagt Hallo!\".format(self.name))\n",
      "#\n",
      "klaus = Person(\"Klaus\")\n",
      "#\n",
      "peter = Person(\"Peter\")\n",
      "\n",
      "klaus.greet()\n",
      "peter.greet()"
     ],
     "language": "python",
     "metadata": {},
     "outputs": [
      {
       "output_type": "stream",
       "stream": "stdout",
       "text": [
        "Klaus sagt Hallo!\n",
        "Peter sagt Hallo!\n"
       ]
      }
     ],
     "prompt_number": 1
    },
    {
     "cell_type": "markdown",
     "metadata": {},
     "source": [
      "### Philosophie\n",
      "* Warum self?\n",
      "* ...\n",
      "* Warum self beim Zugriff auf Variablen?\n",
      "* ...\n"
     ]
    },
    {
     "cell_type": "markdown",
     "metadata": {},
     "source": [
      "### Vererbung\n",
      "* Manchmal m\u00f6chte man Klassen definieren, die aus anderen hervorgehen, d.h. all deren Dinge enthalten - plus eigene\n",
      "* Beispiel:\n",
      "    * Lebewesen\n",
      "        * S\u00e4ugetiere: Enth\u00e4lt alles, was ein Lebewesen enth\u00e4lt + eigenes\n",
      "            * Mensch: Enth\u00e4lt alles, was ein S\u00e4ugetier enth\u00e4lt + eigenes\n",
      "            * Hund:  Enth\u00e4lt alles, was ein S\u00e4ugetier enth\u00e4lt + eigenes\n",
      "* Ziel:\n",
      "    * DRY (Don't repeat yourself)\n",
      "    * Alle S\u00e4ugetiere und alle Menschen k\u00f6nnen als Lebewesen behandelt werden\n",
      "    * Hunde und Menschen k\u00f6nnen als S\u00e4ugetiere behandelt werden\n",
      "    * Jedoch: Hunde k\u00f6nnen nicht als Menschen (oder andersum) behandelt werden"
     ]
    },
    {
     "cell_type": "code",
     "collapsed": false,
     "input": [
      "class Creature(object):\n",
      "   \n",
      "    def __init__(self, name):\n",
      "        self.name = name\n",
      "    \n",
      "    def live(self):\n",
      "        print(\"I, {}, am living\".format(self.name))\n",
      "\n",
      "# ...\n",
      "class Mammal(Creature):\n",
      "    \n",
      "    def __init__(self, name):\n",
      "        # ...\n",
      "        super().__init__(name)\n",
      "        self.age = 12\n",
      "        \n",
      "    def drink_milk(self):\n",
      "        print(\"Yummy!\")\n",
      "        \n",
      "class Human(Mammal):\n",
      "    def __init__(self, name, haircolor):\n",
      "        # ...\n",
      "        super().__init__(name)\n",
      "        self.haircolor=haircolor\n",
      "        self.name = name\n",
      "    def sing(self):\n",
      "        print(\"Lalala!\")\n",
      "        \n",
      "anne = Human(\"Anne\", \"red\")\n",
      "peter = Human(\"Peter\", \"black\")\n",
      "\n",
      "print(peter.age)\n",
      "anne.sing()"
     ],
     "language": "python",
     "metadata": {},
     "outputs": [
      {
       "output_type": "stream",
       "stream": "stdout",
       "text": [
        "12\n",
        "Lalala!\n"
       ]
      }
     ],
     "prompt_number": 31
    },
    {
     "cell_type": "markdown",
     "metadata": {},
     "source": [
      "### Philosophie\n",
      "* Python ist **egal** von welchem Typ ein Objekt ist, wenn es versucht eine Methode davon aufzurufen\n",
      "* Dabei folgt Python Duck Typing\n",
      "* \"When I see a bird that walks like a duck and swims like a duck and quacks like a duck, I call that bird a duck.\" - James Whitcomb Riley \n",
      "* Vorteil:\n",
      "    * Eigene Objekte k\u00f6nnen den Zweck anderer Erf\u00fcllen\n",
      "    * Leichteres Refactoring m\u00f6glich\n",
      "    * Keine statischen Abh\u00e4ngigkeiten\n",
      "* Nachteil:\n",
      "    * Keine Typsicherheit\n",
      "    * Abhilfe: Tests schreiben!"
     ]
    },
    {
     "cell_type": "code",
     "collapsed": false,
     "input": [
      "# Aufgabe: Erstelle folgende Klassen. Nutze dabei gegebene Eigenschaften/Methoden und sinnvolle Ableitung.\n",
      "# Nat\u00fcrlich haben geerbte Klassen auch die Eigenschaften und Methoden der Eltern-Klassen. Wo macht das Sinn?\n",
      "# Klammern zeigen Methoden an; Die Methoden sollen einen einfachen Text ausgeben\n",
      "# Die Eigenschaften k\u00f6nnen beliebigen Text beinhalten.\n",
      "# Schreibe auch jeweils einen passenden Konstruktor\n",
      "\n",
      "# Programmierer: trinke_kaffee()\n",
      "# Angestellter: personalnummer\n",
      "# Mensch: vorname, nachname\n",
      "# Python_Programmier: programmiere_python() "
     ],
     "language": "python",
     "metadata": {},
     "outputs": []
    }
   ],
   "metadata": {}
  }
 ]
}