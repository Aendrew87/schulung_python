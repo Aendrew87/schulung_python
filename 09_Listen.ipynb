{
 "metadata": {
  "name": "",
  "signature": "sha256:ad2252e44c719d2da87ddfff39f71eaa39933104193ec315c60f496bd00bf4ea"
 },
 "nbformat": 3,
 "nbformat_minor": 0,
 "worksheets": [
  {
   "cells": [
    {
     "cell_type": "markdown",
     "metadata": {},
     "source": [
      "Listen\n",
      "-------------\n",
      "\n",
      "### Grundlagen\n",
      "\n",
      "* Beinhaltet beliebige Daten\n",
      "* Hat garantierte, eindeutige Reihenfolge (vgl. z.B. Hashes)\n",
      "* Kann gemischte Typen enthalten (z.B. int und string)\n",
      "* Schachtelung m\u00f6glich (Liste in Liste in Liste ...)"
     ]
    },
    {
     "cell_type": "code",
     "collapsed": false,
     "input": [
      "drinks = [\"Kaffee\", \"Milch\", \"Orangensaft\"]\n",
      "print(drinks)"
     ],
     "language": "python",
     "metadata": {},
     "outputs": [
      {
       "output_type": "stream",
       "stream": "stdout",
       "text": [
        "['Kaffee', 'Milch', 'Orangensaft']\n"
       ]
      }
     ],
     "prompt_number": 1
    },
    {
     "cell_type": "markdown",
     "metadata": {},
     "source": [
      "### Index\n",
      "* Auf einzelene Elemente kann per Index zugegriffen werden\n",
      "* Der Index beginnt bei 0: d.h. das \"erste\" Element hat den Index 0 (!)"
     ]
    },
    {
     "cell_type": "code",
     "collapsed": false,
     "input": [
      "drinks = [\"Kaffee\", \"Milch\", \"Orangensaft\"]\n",
      "print(drinks[0])\n",
      "print(drinks[2])"
     ],
     "language": "python",
     "metadata": {},
     "outputs": [
      {
       "output_type": "stream",
       "stream": "stdout",
       "text": [
        "Kaffee\n",
        "Orangensaft\n"
       ]
      }
     ],
     "prompt_number": 2
    },
    {
     "cell_type": "markdown",
     "metadata": {},
     "source": [
      "* Mit negativem Index kann von \"hinten her\" auf die Liste zugegriffen werden\n",
      "* -1 bedeutet \"Das letzte Element\", -2 \"das vorletzte\" usw."
     ]
    },
    {
     "cell_type": "code",
     "collapsed": false,
     "input": [
      "drinks = [\"Kaffee\", \"Milch\", \"Orangensaft\"]\n",
      "print(drinks[-1])\n",
      "print(drinks[-2])"
     ],
     "language": "python",
     "metadata": {},
     "outputs": [
      {
       "output_type": "stream",
       "stream": "stdout",
       "text": [
        "Orangensaft\n",
        "Milch\n"
       ]
      }
     ],
     "prompt_number": 4
    },
    {
     "cell_type": "markdown",
     "metadata": {},
     "source": [
      "### Listen-Ausschnitte\n",
      "* Ausschnitte von Listen werden nach dem gleichen Prinzip erstellt\n",
      "* Syntax: [__Von__ (inklusive), __bis__ (exklusive)]"
     ]
    },
    {
     "cell_type": "code",
     "collapsed": false,
     "input": [
      "drinks = [\"Kaffee\", \"Milch\", \"Orangensaft\", \"Mate\", \"Tee\", \"Cola\"]\n",
      "print(drinks[2:5])\n",
      "# Implizites Ende:\n",
      "print(drinks[2:])\n",
      "# Impliziter Anfang\n",
      "print(drinks[:3])\n",
      "# Ach hier: negative Indizes m\u00f6glich\n",
      "print(drinks[-4:-1])\n"
     ],
     "language": "python",
     "metadata": {},
     "outputs": [
      {
       "output_type": "stream",
       "stream": "stdout",
       "text": [
        "['Orangensaft', 'Mate', 'Tee']\n",
        "['Orangensaft', 'Mate', 'Tee', 'Cola']\n",
        "['Kaffee', 'Milch', 'Orangensaft']\n",
        "['Orangensaft', 'Mate', 'Tee']\n"
       ]
      }
     ],
     "prompt_number": 16
    },
    {
     "cell_type": "markdown",
     "metadata": {},
     "source": [
      "### Schrittweite\n",
      "* Weiteres Syntax-Element: Die Schrittweite:\n",
      "* Syntax: [__Von__ (inklusive), __bis__ (exklusive), __Schrittweite__]"
     ]
    },
    {
     "cell_type": "code",
     "collapsed": false,
     "input": [
      "drinks = [\"Kaffee\", \"Milch\", \"Orangensaft\", \"Mate\", \"Tee\", \"Cola\"]\n",
      "# Jedes Element\n",
      "print(drinks[0:6:1])\n",
      "# Jedes Element mit implizitem Anfang und implizitem Ende:\n",
      "print(drinks[::1])\n",
      "# Jedes zweite Element\n",
      "print(drinks[::2])\n",
      "# Jedes Element, verkehrt herum\n",
      "print(drinks[::-1])\n"
     ],
     "language": "python",
     "metadata": {},
     "outputs": [
      {
       "output_type": "stream",
       "stream": "stdout",
       "text": [
        "['Kaffee', 'Milch', 'Orangensaft', 'Mate', 'Tee', 'Cola']\n",
        "['Kaffee', 'Milch', 'Orangensaft', 'Mate', 'Tee', 'Cola']\n",
        "['Kaffee', 'Orangensaft', 'Tee']\n",
        "['Cola', 'Tee', 'Mate', 'Orangensaft', 'Milch', 'Kaffee']\n"
       ]
      }
     ],
     "prompt_number": 24
    },
    {
     "cell_type": "markdown",
     "metadata": {},
     "source": [
      "### Vorhandensein\n",
      "* Pr\u00fcfen, ob ein Objekt in einer Liste vorhanden ist"
     ]
    },
    {
     "cell_type": "code",
     "collapsed": false,
     "input": [
      "drinks = [\"Kaffee\", \"Milch\", \"Orangensaft\", \"Mate\", \"Tee\", \"Cola\"]\n",
      "# ...\n",
      "print(\"Mate\" in drinks)\n",
      "# ...\n",
      "print(\"Bier\" in drinks)"
     ],
     "language": "python",
     "metadata": {},
     "outputs": [
      {
       "output_type": "stream",
       "stream": "stdout",
       "text": [
        "True\n",
        "False\n"
       ]
      }
     ],
     "prompt_number": 3
    },
    {
     "cell_type": "code",
     "collapsed": false,
     "input": [
      "# Aufgabe:\n",
      "\n",
      "tiere = [\"Affe\", \"Loewe\", \"Tapir\", \"Orangensaft\", \"Tieger\", \"Tee\", \"Zebra\", \"Gnu\", \"Schaf\", \"Kaffee\"]\n",
      "\n",
      "# Lege eine neue Liste f\u00fcr die Getr\u00e4nke aus der Liste an\n",
      "\n",
      "# \u00dcberschreibe die Liste 'tiere' mit einer Liste, in der tats\u00e4chlich nur Tiere vorkommen\n",
      "\n",
      "# Bonus: Wie sortiere ich so eine Liste? Aus dem Bauch heraus ausprobieren!\n"
     ],
     "language": "python",
     "metadata": {},
     "outputs": []
    }
   ],
   "metadata": {}
  }
 ]
}