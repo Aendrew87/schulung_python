{
 "metadata": {
  "name": "",
  "signature": "sha256:a22a4ac753112a9f878bf49e9b3c55145f77341e55beec5e17deea976a96677d"
 },
 "nbformat": 3,
 "nbformat_minor": 0,
 "worksheets": [
  {
   "cells": [
    {
     "cell_type": "markdown",
     "metadata": {},
     "source": [
      "Webscraping\n",
      "-------------\n",
      "\n",
      "* Idee: Lade Daten aus dem Internet (Webseiten)\n",
      "* Dabei k\u00f6nnen Formulare Ausgef\u00fcllt oder Suchanfragen gestellt werden\n",
      "* Die Antwort wird gelesen und der f\u00fcr uns relevante Teil herausgezogen werden\n",
      "* Achtung: Das Beispiel ist \"zerbrechlich\": Es braucht online-Zugang und sobald sich die Struktur von http://www.dasoertliche.de \u00e4ndert funktioniert es nicht mehr."
     ]
    },
    {
     "cell_type": "code",
     "collapsed": false,
     "input": [
      "import requests\n",
      "import bs4\n",
      "\n",
      "def search(phone_number):\n",
      "    BASE_URL = r\"http://www.dasoertliche.de/Controller?book=339&form_name=search_inv\"\n",
      "    request_url = BASE_URL + \"&ph=\" + phone_number\n",
      "    response = requests.get(request_url)\n",
      "    # -----\n",
      "    soup = bs4.BeautifulSoup(response.text)\n",
      "    try:\n",
      "        found_name = soup.select(\"#entry_1 > div.left > a.name > span\")[0]\n",
      "        found_address = soup.select('#entry_1 > div.left > address ')[0]\n",
      "        return found_name.text.strip(), found_address.text.strip()\n",
      "    except:\n",
      "        return None, None\n",
      "\n",
      "name, address = search(\"01805231600\")\n",
      "\n",
      "print(name, address)\n"
     ],
     "language": "python",
     "metadata": {},
     "outputs": []
    }
   ],
   "metadata": {}
  }
 ]
}