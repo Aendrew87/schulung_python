{
 "metadata": {
  "name": "",
  "signature": "sha256:9181b765fac41efcbacc53ed6c85659ff6dae26144f1553e586b15f9ed1d5e41"
 },
 "nbformat": 3,
 "nbformat_minor": 0,
 "worksheets": [
  {
   "cells": [
    {
     "cell_type": "markdown",
     "metadata": {},
     "source": [
      "Dateien lesen und schreiben\n",
      "------------------------------\n",
      "### Dateien lesen\n",
      "\n",
      "* Datei \u00f6ffnen kennt verschiedene Modi:\n",
      "    * r: Lesen\n",
      "    * w: Schreiben\n",
      "    * r+: Lesen & Schreiben\n",
      "    * a: Append (Am Ende anh\u00e4ngen)\n",
      "    * b: Binary (nur f\u00fcr Bin\u00e4rdateien, nur unter Windows notwendig)\n",
      "* In Python kann man eine Datei abarbeiten, wie eine Liste"
     ]
    },
    {
     "cell_type": "code",
     "collapsed": false,
     "input": [
      "# Datei lesen:\n",
      "file = open(\"mein_text.txt\", \"r\")\n",
      "for line in file:\n",
      "    print(line)\n",
      "file.close()"
     ],
     "language": "python",
     "metadata": {},
     "outputs": [
      {
       "output_type": "stream",
       "stream": "stdout",
       "text": [
        "MangoPapayaBanane\n"
       ]
      }
     ],
     "prompt_number": 10
    },
    {
     "cell_type": "code",
     "collapsed": false,
     "input": [
      "# Datei schreiben:\n",
      "obstsorten = [\"Mango\", \"Papaya\", \"Banane\"]\n",
      "file = open(\"mein_text.txt\", \"w\")\n",
      "for obst in obstsorten:\n",
      "    file.write(obst)\n",
      "file.close()"
     ],
     "language": "python",
     "metadata": {},
     "outputs": [],
     "prompt_number": 9
    },
    {
     "cell_type": "code",
     "collapsed": false,
     "input": [],
     "language": "python",
     "metadata": {},
     "outputs": []
    }
   ],
   "metadata": {}
  }
 ]
}