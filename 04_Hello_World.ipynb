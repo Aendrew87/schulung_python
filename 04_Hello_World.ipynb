{
 "metadata": {
  "name": "",
  "signature": "sha256:686d09c7ad63d321a97a226899e00ebadeb613cdd976f91b466cc5faedbe0269"
 },
 "nbformat": 3,
 "nbformat_minor": 0,
 "worksheets": [
  {
   "cells": [
    {
     "cell_type": "markdown",
     "metadata": {},
     "source": [
      "### Python starten\n",
      "\u00d6ffne die Kommandozeile (z.B. cmd) und starte python mit dem Befehl\n",
      "\n",
      "    python\n",
      "\n",
      "Es \u00f6ffnet sich das Programm mit einer Meldung, die in etwa so aussieht:\n",
      "\n",
      "    Python 3.4.1 |Anaconda 2.1.0 (64-bit)| (default, Sep 24 2014, 18:32:42) [MSC v.1600 64 bit (AMD64)] on win32\n",
      "    Type \"help\", \"copyright\", \"credits\" or \"license\" for more information.\n",
      "    >>>\n",
      "    \n",
      "* Dies ist eine [*REPL*](http://en.wikipedia.org/wiki/Read%E2%80%93eval%E2%80%93print_loop) (*Read-eval-print loop*, auch *Language Shell*)\n",
      "* Eingaben werden ausgewertet und ausgegeben\n",
      "* Programmieren durch direkte Eingaben m\u00f6glich\n",
      "* Beispiel:\n",
      "    \n",
      "     \n",
      "    \n",
      "    print(\"Hello World\")\n",
      "### Erstes Programm\n",
      "* \u00d6ffne einen Editor, z.B. Notepad++ und lege eine neue Datei an: hello_world.py\n",
      "* Folgender Inhalt in die Datei speichern:\n",
      "\n",
      "\n",
      "    print(\"Hello World\")\n",
      "* \u00d6ffne die Kommandozeile und starte das Programm mit dem Befehl:\n",
      "\n",
      "\n",
      "\n",
      "    python hello_world.py\n",
      "* Programm wird somit dauerhaft gespeichert und abgelegt\n",
      "* \u00dcbliche Arbeit: Editor und Kommandozeile\n",
      "* [IDEs](http://de.wikipedia.org/wiki/Integrierte_Entwicklungsumgebung) (sp\u00e4ter!) auch m\u00f6glich\n",
      "\n",
      "### Dieses Dokument\n",
      "* Ist ein [IPython Notebook](http://ipython.org/notebook.html)\n",
      "* Beinhaltet Text und Python Code\n",
      "* Code kann ver\u00e4ndert und ausgef\u00fchrt werden\n",
      "* \u00c4ndere diese Kursunterlagen mit Notizen, Anmerkungen, L\u00f6sungen, usw.\n",
      "* z.B. \"Hello World\" in der n\u00e4chsten Box"
     ]
    },
    {
     "cell_type": "code",
     "collapsed": false,
     "input": [
      "print(\"Hello World\")"
     ],
     "language": "python",
     "metadata": {},
     "outputs": [
      {
       "output_type": "stream",
       "stream": "stdout",
       "text": [
        "Hello World\n"
       ]
      }
     ],
     "prompt_number": 1
    },
    {
     "cell_type": "markdown",
     "metadata": {},
     "source": [
      "### Erste Aufgabe"
     ]
    },
    {
     "cell_type": "code",
     "collapsed": false,
     "input": [
      "# Schreibe ein Programm, dass \"Guten Morgen!\" ausgibt\n",
      "#"
     ],
     "language": "python",
     "metadata": {},
     "outputs": [],
     "prompt_number": "*"
    }
   ],
   "metadata": {}
  }
 ]
}