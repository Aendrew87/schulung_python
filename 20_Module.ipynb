{
 "metadata": {
  "name": "",
  "signature": "sha256:01fcb3afaa7709fdffcdf9e7c77eb07f3cbe8ce8eebc848daf0d2b01bd16f3bf"
 },
 "nbformat": 3,
 "nbformat_minor": 0,
 "worksheets": [
  {
   "cells": [
    {
     "cell_type": "markdown",
     "metadata": {},
     "source": [
      "Module\n",
      "------------\n",
      "\n",
      "### Grundlagen\n",
      "__Anmerkung: Diese Lektionen funktionieren nicht direkt im IPython Notebook mehr!\n",
      "Jetzt m\u00fcssen wir Dateien erstellen und die Daten darin speichern.__\n",
      "* Bei gr\u00f6\u00dferen Programmen m\u00f6chte man Teile auslagern\n",
      "* Beispiel: Mathematische Operationen in Extra-Datei auslagern"
     ]
    },
    {
     "cell_type": "code",
     "collapsed": false,
     "input": [
      "# mein_modul.py\n",
      "def multiply(a, b):\n",
      "    return a * b"
     ],
     "language": "python",
     "metadata": {},
     "outputs": [],
     "prompt_number": 1
    },
    {
     "cell_type": "code",
     "collapsed": false,
     "input": [
      "# Hauptprogramm\n",
      "\n",
      "# ...\n",
      "import mein_modul\n",
      "# Anmerkung: Dies funktioniert nicht in IPython Notebook!\n",
      "# ...\n",
      "print(mein_modul.multiply(5,3))"
     ],
     "language": "python",
     "metadata": {},
     "outputs": []
    },
    {
     "cell_type": "markdown",
     "metadata": {},
     "source": [
      "* M\u00f6chte man einen anderen/k\u00fcrzeren/besseren Namen f\u00fcr den **Namespace** des Moduls w\u00e4hlen, funktioniert das wie folgt:"
     ]
    },
    {
     "cell_type": "code",
     "collapsed": false,
     "input": [
      "# Hauptprogramm\n",
      "# ...\n",
      "import mein_modul as mm\n",
      "# ...\n",
      "print (mm.multiply(5,3))"
     ],
     "language": "python",
     "metadata": {},
     "outputs": []
    },
    {
     "cell_type": "markdown",
     "metadata": {},
     "source": [
      "* M\u00f6chte man eine, mehrer oder gar alle Dinge eines Moduls in den gegenw\u00e4rtigen Namespace importieren, funktionert das wie folgt:"
     ]
    },
    {
     "cell_type": "code",
     "collapsed": false,
     "input": [
      "# Hauptprogramm\n",
      "# ...\n",
      "from mein_modul import multiply\n",
      "# ...\n",
      "print(multiply(5,3))"
     ],
     "language": "python",
     "metadata": {},
     "outputs": []
    },
    {
     "cell_type": "code",
     "collapsed": false,
     "input": [
      "# Hauptprogramm\n",
      "# ...\n",
      "from mein_modul import *\n",
      "# ...\n",
      "print(muliply(5,3))"
     ],
     "language": "python",
     "metadata": {},
     "outputs": []
    },
    {
     "cell_type": "markdown",
     "metadata": {},
     "source": [
      "__Achtung! Was passiert hier?__"
     ]
    },
    {
     "cell_type": "code",
     "collapsed": false,
     "input": [
      "# Hauptprogramm:\n",
      "from mein_modul import *\n",
      "def multiply(a, b):\n",
      "    return a*2*b\n",
      "\n",
      "print(multiply(5,3))"
     ],
     "language": "python",
     "metadata": {},
     "outputs": []
    },
    {
     "cell_type": "markdown",
     "metadata": {},
     "source": [
      "__Und hier?__"
     ]
    },
    {
     "cell_type": "code",
     "collapsed": false,
     "input": [
      "# Hauptprogramm:\n",
      "def multiply(a, b):\n",
      "    return a*2*b\n",
      "from mein_modul import *\n",
      "\n",
      "print(multiply(5,3))"
     ],
     "language": "python",
     "metadata": {},
     "outputs": []
    }
   ],
   "metadata": {}
  }
 ]
}