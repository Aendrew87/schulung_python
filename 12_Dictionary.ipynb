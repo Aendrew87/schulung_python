{
 "metadata": {
  "name": "",
  "signature": "sha256:46f7734d78cc6e57a6a666aeb61b337ad2a8140935d7d52e6b2f48cc6d0fe3a8"
 },
 "nbformat": 3,
 "nbformat_minor": 0,
 "worksheets": [
  {
   "cells": [
    {
     "cell_type": "markdown",
     "metadata": {},
     "source": [
      "Dictionary\n",
      "---------------\n",
      "### Grundlagen\n",
      "* \u00c4hnlich zu Listen, jedoch: Wertepaar\n",
      "* Eindeutiger Schl\u00fcssel und Wert\n",
      "* Schl\u00fcssel und Wert: Typ beliebig\n",
      "* Schl\u00fcssel muss eindeutig sein\n",
      "* Kein eindeutige Reihenfolge => Kein Indexzugriff\n",
      "* Beispiele:"
     ]
    },
    {
     "cell_type": "code",
     "collapsed": false,
     "input": [
      "roman = {\"I\":1, \"V\":5, \"X\":10}\n",
      "print(roman)"
     ],
     "language": "python",
     "metadata": {},
     "outputs": [
      {
       "output_type": "stream",
       "stream": "stdout",
       "text": [
        "{'V': 5, 'X': 10, 'I': 1}\n"
       ]
      }
     ],
     "prompt_number": 3
    },
    {
     "cell_type": "markdown",
     "metadata": {},
     "source": [
      "### Werte-Zugriff\n",
      "* i.d.R. will man auf den Wert zugreifen:"
     ]
    },
    {
     "cell_type": "code",
     "collapsed": false,
     "input": [
      "roman = {\"I\":1, \"V\":5, \"X\":10}\n",
      "print(roman[\"I\"])\n",
      "print(roman[\"X\"])\n",
      "\n",
      "# aber nicht:\n",
      "# roman[0]"
     ],
     "language": "python",
     "metadata": {},
     "outputs": [
      {
       "output_type": "stream",
       "stream": "stdout",
       "text": [
        "1\n",
        "10\n"
       ]
      }
     ],
     "prompt_number": 11
    },
    {
     "cell_type": "markdown",
     "metadata": {},
     "source": [
      "### Schl\u00fcssel-Zugriff\n",
      "* Alle Schl\u00fcssel ausgeben:"
     ]
    },
    {
     "cell_type": "code",
     "collapsed": false,
     "input": [
      "roman = {\"I\":1, \"V\":5, \"X\":10}\n",
      "print(roman.keys())\n"
     ],
     "language": "python",
     "metadata": {},
     "outputs": [
      {
       "output_type": "stream",
       "stream": "stdout",
       "text": [
        "dict_keys(['V', 'X', 'I'])\n"
       ]
      }
     ],
     "prompt_number": 14
    },
    {
     "cell_type": "markdown",
     "metadata": {},
     "source": [
      "### Alle-Werte-Zugriff\n",
      "* Alle Werte ausgeben:"
     ]
    },
    {
     "cell_type": "code",
     "collapsed": false,
     "input": [
      "roman = {\"I\":1, \"V\":5, \"X\":10}\n",
      "print(roman.values())"
     ],
     "language": "python",
     "metadata": {},
     "outputs": [
      {
       "output_type": "stream",
       "stream": "stdout",
       "text": [
        "dict_values([5, 10, 1])\n"
       ]
      }
     ],
     "prompt_number": 17
    },
    {
     "cell_type": "markdown",
     "metadata": {},
     "source": [
      "### Dictionary Manipulieren\n",
      "* Neue Werte hinzuf\u00fcgen\n",
      "* Werte entfernen\n",
      "* Pr\u00fcfen, ob Wert vorhanden ist"
     ]
    },
    {
     "cell_type": "code",
     "collapsed": false,
     "input": [
      "roman = {\"I\":1, \"V\":5, \"X\":10}\n",
      "print(roman)\n",
      "# ...\n",
      "roman[\"L\"]=50\n",
      "print(roman)\n",
      "# ...\n",
      "del roman[\"I\"]\n",
      "print(roman)\n",
      "# ...\n",
      "print(\"X\" in roman)\n",
      "# ...\n",
      "print(\"C\" in roman)"
     ],
     "language": "python",
     "metadata": {},
     "outputs": [
      {
       "output_type": "stream",
       "stream": "stdout",
       "text": [
        "{'V': 5, 'X': 10, 'I': 1}\n",
        "{'L': 50, 'V': 5, 'X': 10, 'I': 1}\n",
        "{'L': 50, 'V': 5, 'X': 10}\n",
        "True\n",
        "False\n"
       ]
      }
     ],
     "prompt_number": 24
    },
    {
     "cell_type": "code",
     "collapsed": false,
     "input": [
      "# Aufgabe: Erstellen Sie ein Lexikon \"Deutsch ==> Englisch\", damit folgende Befehle funktionieren \n",
      "# \n",
      "\n",
      "\n",
      "\n",
      "print(woerterbuch[\"Katze\"])\n",
      "print(woerterbuch[\"Haus\"])\n",
      "print(woerterbuch[\"Zwiebel\"])\n",
      "\n",
      "# Ausgeben: Ist das Wort \"Ja\" im Woerterbuch?\n",
      "\n",
      "# Das Wort \"Ja\" aus dem Woerterbuch loeschen!\n"
     ],
     "language": "python",
     "metadata": {},
     "outputs": []
    },
    {
     "cell_type": "markdown",
     "metadata": {},
     "source": [
      "Sets\n",
      "---------------\n",
      "### Grundlagen\n",
      "* Wertemengen\n",
      "* Eindeutige Elemente\n",
      "* Mengen-Operationen m\u00f6glich"
     ]
    },
    {
     "cell_type": "code",
     "collapsed": false,
     "input": [
      "freunde_klaus = {'Monika','Andrea','Armin', 'Brigitte'}\n",
      "freunde_peter = {'Ulf','Jens','Monika', 'Petra'}\n",
      "print(freunde_klaus)\n",
      "print(freunde_peter)\n",
      "\n",
      "# ...\n",
      "print(freunde_klaus - freunde_peter)\n",
      "# ...\n",
      "print(freunde_peter - freunde_klaus)\n",
      "# ...\n",
      "print(freunde_klaus ^ freunde_peter)\n",
      "# ...\n",
      "print(freunde_klaus | freunde_peter)\n",
      "# ...\n",
      "print(freunde_klaus & freunde_peter)\n",
      "# u.v.m."
     ],
     "language": "python",
     "metadata": {},
     "outputs": [
      {
       "output_type": "stream",
       "stream": "stdout",
       "text": [
        "{'Brigitte', 'Andrea', 'Armin', 'Monika'}\n",
        "{'Jens', 'Petra', 'Monika', 'Ulf'}\n",
        "{'Brigitte', 'Andrea', 'Armin'}\n",
        "{'Jens', 'Petra', 'Ulf'}\n",
        "{'Brigitte', 'Armin', 'Jens', 'Andrea', 'Petra', 'Ulf'}\n",
        "{'Brigitte', 'Armin', 'Jens', 'Andrea', 'Petra', 'Monika', 'Ulf'}\n",
        "{'Monika'}\n"
       ]
      }
     ],
     "prompt_number": 8
    },
    {
     "cell_type": "code",
     "collapsed": false,
     "input": [
      "# Ach schreibbar als...\n",
      "freunde_klaus = {'Monika','Andrea','Armin', 'Brigitte'}\n",
      "freunde_peter = {'Ulf','Jens','Monika', 'Petra'}\n",
      "print(freunde_klaus)\n",
      "print(freunde_peter)\n",
      "\n",
      "# ...\n",
      "print(freunde_klaus.difference(freunde_peter))\n",
      "# ...\n",
      "print(freunde_peter.difference(freunde_klaus))\n",
      "# ...\n",
      "print(freunde_klaus.symmetric_difference(freunde_peter))\n",
      "# ...\n",
      "print(freunde_klaus.union(freunde_peter))\n",
      "# ...\n",
      "print(freunde_klaus.intersection(freunde_peter))\n",
      "# u.v.m.\n"
     ],
     "language": "python",
     "metadata": {},
     "outputs": [
      {
       "output_type": "stream",
       "stream": "stdout",
       "text": [
        "{'Brigitte', 'Andrea', 'Armin', 'Monika'}\n",
        "{'Jens', 'Petra', 'Monika', 'Ulf'}\n",
        "{'Brigitte', 'Andrea', 'Armin'}\n",
        "{'Jens', 'Petra', 'Ulf'}\n",
        "{'Brigitte', 'Armin', 'Jens', 'Andrea', 'Petra', 'Ulf'}\n",
        "{'Brigitte', 'Armin', 'Jens', 'Andrea', 'Petra', 'Monika', 'Ulf'}\n",
        "{'Monika'}\n"
       ]
      }
     ],
     "prompt_number": 11
    },
    {
     "cell_type": "code",
     "collapsed": false,
     "input": [
      "# Aufgabe: Ermittle mit Hilfe der folgenden Listen und den Operatoren auf sets folgende Anfragen:\n",
      "things_philipp_likes = { 'improv', 'playing piano', 'cooking', 'python'}\n",
      "things_philipp_does_daily = {'cooking', 'c#'}\n",
      "things_philipp_is_good_at = {'improv', 'cooking', 'python'}\n",
      "\n",
      "# Was mag ich und tu es auch oft?\n",
      "# Was f\u00fcr Dinge sollte ich besser lernen (weil ich es gerne tu, aber nicht gut bin)?\n",
      "# Welche Dinge sollte ich \u00f6fter tun (weil ich es gerne tu, aber sie nicht t\u00e4glich mache)?\n",
      "\n",
      "\n"
     ],
     "language": "python",
     "metadata": {},
     "outputs": []
    }
   ],
   "metadata": {}
  }
 ]
}