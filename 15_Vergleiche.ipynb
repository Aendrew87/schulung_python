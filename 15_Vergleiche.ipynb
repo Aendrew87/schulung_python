{
 "metadata": {
  "name": "",
  "signature": "sha256:3617fd544c73ed6a7dbd705471a5ae7d2cb3079f783095d371204d234199b6e9"
 },
 "nbformat": 3,
 "nbformat_minor": 0,
 "worksheets": [
  {
   "cells": [
    {
     "cell_type": "markdown",
     "metadata": {},
     "source": [
      "Vergleiche\n",
      "------------\n",
      "### Grundlagen\n",
      "* Oftmals sind Vergleiche von Objekten notwendig\n",
      "* Beispiele:\n",
      "    * Ist ein Benutzer mindestens 18 Jahre alt?\n",
      "    * Ist ein Anwender in der Liste der Administratoren?"
     ]
    },
    {
     "cell_type": "code",
     "collapsed": false,
     "input": [
      "# Test auf ...\n",
      "print(\"Test\" == \"Test\")\n",
      "print(\"Foo\" == \"Bar\")"
     ],
     "language": "python",
     "metadata": {},
     "outputs": [
      {
       "output_type": "stream",
       "stream": "stdout",
       "text": [
        "True\n",
        "False\n"
       ]
      }
     ],
     "prompt_number": 8
    },
    {
     "cell_type": "code",
     "collapsed": false,
     "input": [
      "# Test auf ...\n",
      "print(\"Test\" != \"Test\")\n",
      "print(\"Foo\" != \"Bar\")"
     ],
     "language": "python",
     "metadata": {},
     "outputs": [
      {
       "output_type": "stream",
       "stream": "stdout",
       "text": [
        "False\n",
        "True\n"
       ]
      }
     ],
     "prompt_number": 10
    },
    {
     "cell_type": "code",
     "collapsed": false,
     "input": [
      "# Test auf ...\n",
      "print(type(\"Test\") is str)\n",
      "print(type(123) is str)"
     ],
     "language": "python",
     "metadata": {},
     "outputs": [
      {
       "output_type": "stream",
       "stream": "stdout",
       "text": [
        "True\n",
        "False\n"
       ]
      }
     ],
     "prompt_number": 13
    },
    {
     "cell_type": "code",
     "collapsed": false,
     "input": [
      "# Test auf ...\n",
      "print(type(\"Test\") is not str)\n",
      "print(type(123) is not str)"
     ],
     "language": "python",
     "metadata": {},
     "outputs": [
      {
       "output_type": "stream",
       "stream": "stdout",
       "text": [
        "False\n",
        "True\n"
       ]
      }
     ],
     "prompt_number": 15
    },
    {
     "cell_type": "code",
     "collapsed": false,
     "input": [
      "# Test auf ...\n",
      "print(4 < 5)\n",
      "print(5 < 4)"
     ],
     "language": "python",
     "metadata": {},
     "outputs": [
      {
       "output_type": "stream",
       "stream": "stdout",
       "text": [
        "True\n",
        "False\n"
       ]
      }
     ],
     "prompt_number": 17
    },
    {
     "cell_type": "code",
     "collapsed": false,
     "input": [
      "# Test auf ...\n",
      "print(4 <= 4)\n",
      "print(5 <= 4)"
     ],
     "language": "python",
     "metadata": {},
     "outputs": [
      {
       "output_type": "stream",
       "stream": "stdout",
       "text": [
        "True\n",
        "False\n"
       ]
      }
     ],
     "prompt_number": 18
    },
    {
     "cell_type": "code",
     "collapsed": false,
     "input": [
      "# Test auf ...\n",
      "print(4 >= 5)\n",
      "print(5 >= 4)"
     ],
     "language": "python",
     "metadata": {},
     "outputs": [
      {
       "output_type": "stream",
       "stream": "stdout",
       "text": [
        "False\n",
        "True\n"
       ]
      }
     ],
     "prompt_number": 20
    },
    {
     "cell_type": "code",
     "collapsed": false,
     "input": [
      "# Achtung!\n",
      "# Test auf ...\n",
      "a = None\n",
      "print(None is None)"
     ],
     "language": "python",
     "metadata": {},
     "outputs": [
      {
       "output_type": "stream",
       "stream": "stdout",
       "text": [
        "True\n"
       ]
      }
     ],
     "prompt_number": 22
    }
   ],
   "metadata": {}
  }
 ]
}