{
 "metadata": {
  "name": "",
  "signature": "sha256:6147b2e93e70952c18b0d68438999ca97c2f8ff7a290e9928943e399efcfb1ed"
 },
 "nbformat": 3,
 "nbformat_minor": 0,
 "worksheets": [
  {
   "cells": [
    {
     "cell_type": "markdown",
     "metadata": {},
     "source": [
      "Methoden\n",
      "---------------\n",
      "### Grundlagen\n",
      "\n",
      "* Ergeben sich wiederkehrende Aufgaben und Abl\u00e4ufe, m\u00f6chte man diese strukturieren\n",
      "* 2 Programme, die das gleiche tun:"
     ]
    },
    {
     "cell_type": "code",
     "collapsed": false,
     "input": [
      "print(\"Hallo und willkommen im Python Kurs\")\n",
      "print(\"Hallo und willkommen im Python Kurs\")\n",
      "print(\"Hallo und willkommen im Python Kurs\")"
     ],
     "language": "python",
     "metadata": {},
     "outputs": [
      {
       "output_type": "stream",
       "stream": "stdout",
       "text": [
        "Hallo und willkommen im Python Kurs\n",
        "Hallo und willkommen im Python Kurs\n",
        "Hallo und willkommen im Python Kurs\n"
       ]
      }
     ],
     "prompt_number": 2
    },
    {
     "cell_type": "code",
     "collapsed": false,
     "input": [
      "# ...\n",
      "def hallo():\n",
      "    print(\"Hallo und willkommen im Python Kurs\")\n",
      "\n",
      "hallo()\n",
      "hallo()\n",
      "hallo()"
     ],
     "language": "python",
     "metadata": {},
     "outputs": [
      {
       "output_type": "stream",
       "stream": "stdout",
       "text": [
        "Hallo und willkommen im Python Kurs\n",
        "Hallo und willkommen im Python Kurs\n",
        "Hallo und willkommen im Python Kurs\n"
       ]
      }
     ],
     "prompt_number": 6
    },
    {
     "cell_type": "markdown",
     "metadata": {},
     "source": [
      "### \u00dcbergabewerte\n",
      "* \u00dcbergabewerte werden per Namen definiert\n",
      "* Es k\u00f6nnen beliebig viele Parameter definiert werden\n",
      "* Der Stern-Operator hilft bei variabel vielen Parametern"
     ]
    },
    {
     "cell_type": "code",
     "collapsed": false,
     "input": [
      "def hallo(name):\n",
      "    print(\"Hallo {}, wie geht es dir?\".format(name))\n",
      "\n",
      "Hallo(\"Armin\")\n",
      "Hallo(\"Peter\")"
     ],
     "language": "python",
     "metadata": {},
     "outputs": [
      {
       "output_type": "stream",
       "stream": "stdout",
       "text": [
        "Hallo Armin, wie geht es dir?\n",
        "Hallo Peter, wie geht es dir?\n"
       ]
      }
     ],
     "prompt_number": 4
    },
    {
     "cell_type": "code",
     "collapsed": false,
     "input": [
      "def hallo(name_1, name_2):\n",
      "    print(\"Hallo {} und {}, wie geht es euch?\".format(name_1, name_2))\n",
      "hallo(\"Armin\", \"Peter\")    "
     ],
     "language": "python",
     "metadata": {},
     "outputs": [
      {
       "output_type": "stream",
       "stream": "stdout",
       "text": [
        "Hallo Armin und Peter, wie geht es euch?\n"
       ]
      }
     ],
     "prompt_number": 8
    },
    {
     "cell_type": "code",
     "collapsed": false,
     "input": [
      "def hallo(*namen):\n",
      "    print(\"Hallo {}, wie geht es euch?\".format(namen))\n",
      "hallo(\"Armin\", \"Peter\", \"Klaus\")"
     ],
     "language": "python",
     "metadata": {},
     "outputs": [
      {
       "output_type": "stream",
       "stream": "stdout",
       "text": [
        "Hallo ('Armin', 'Peter', 'Klaus'), wie geht es euch?\n"
       ]
      }
     ],
     "prompt_number": 10
    },
    {
     "cell_type": "markdown",
     "metadata": {},
     "source": [
      "### Default-Werte\n",
      "* Wenn die Anzahl der Parameter beim Aufruf nicht mit der Anzahl der Parameter der Methode \u00fcbereinstimmt, klappt der Aufruf nicht\n",
      "* Sonderfall: Default-Werte"
     ]
    },
    {
     "cell_type": "code",
     "collapsed": false,
     "input": [
      "def hallo(name=\"Peter\"):\n",
      "    print(\"Hallo {}!\".format(name))\n",
      "\n",
      "hallo(\"Klaus\")\n",
      "hallo()"
     ],
     "language": "python",
     "metadata": {},
     "outputs": [
      {
       "output_type": "stream",
       "stream": "stdout",
       "text": [
        "Hallo Klaus!\n",
        "Hallo Peter!\n"
       ]
      }
     ],
     "prompt_number": 11
    },
    {
     "cell_type": "code",
     "collapsed": false,
     "input": [
      "# Aufgabe: Schreibe eine Methode, die die Summer von 2 Werten ausgibt.\n",
      "\n",
      "# Der Aufruf soll so erfolgen:\n",
      "addiere(1,2)\n",
      "\n",
      "# Was passiert bei diesen Werten?\n",
      "# result = addiere(\"Hello\", \"World\")\n",
      "# result = addiere(1, \"Welt\")"
     ],
     "language": "python",
     "metadata": {},
     "outputs": []
    }
   ],
   "metadata": {}
  }
 ]
}