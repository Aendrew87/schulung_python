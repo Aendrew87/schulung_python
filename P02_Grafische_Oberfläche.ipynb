{
 "metadata": {
  "name": "",
  "signature": "sha256:f21a8e28b96e0e8e620bf637a5808e8c91109014e2c75340893c4c6747e1347f"
 },
 "nbformat": 3,
 "nbformat_minor": 0,
 "worksheets": [
  {
   "cells": [
    {
     "cell_type": "markdown",
     "metadata": {},
     "source": [
      "Grafische Oberfl\u00e4che mit QT\n",
      "-------------\n",
      "\n",
      "* Idee: Programm mit grafischer Oberfl\u00e4che\n",
      "* Es gibt zahlreiche Oberfl\u00e4chen-Werkzeuge\n",
      "* Ein einfaches Programm, mit nur einem Button kann komplett in Python geschrieben werden\n",
      "* Komplexere Programme k\u00f6nnten in Qt-Designer \"gemalt\" und mit Werkzeugen \u00fcbersetzt werden\n",
      "* Viele weitere Oberfl\u00e4chen-Frameworks verf\u00fcgbar\n",
      "* Funktioniert wahrscheinlich nicht aus IPython heraus"
     ]
    },
    {
     "cell_type": "code",
     "collapsed": false,
     "input": [
      "#!/usr/bin/env python\n",
      "\n",
      "import sys\n",
      "from PyQt4 import Qt\n",
      "\n",
      "\n",
      "class HelloApplication(Qt.QApplication):\n",
      "\n",
      "    def __init__(self, args):\n",
      "        # ...\n",
      "        Qt.QApplication.__init__(self, args)\n",
      "        # ...\n",
      "        self.addWidgets()\n",
      "        # ...\n",
      "        self.exec_()\n",
      "\n",
      "    def addWidgets(self):\n",
      "        # ...\n",
      "        self.mein_button = Qt.QPushButton(\"Sag 'Guten Tag!'\", None)\n",
      "        # ...\n",
      "        self.connect(self.mein_button, Qt.SIGNAL(\"clicked()\"), self.slotSagGutenTag)\n",
      "        self.mein_button.show()\n",
      "\n",
      "    def slotSagGutenTag(self):\n",
      "        # ...\n",
      "        print (\"Guten Tag!\")\n",
      "\n",
      "# Wenn das Programm gestartet wird, erzeuge ein HelloApplication Instanz\n",
      "if __name__ == \"__main__\":\n",
      "    app = HelloApplication(sys.argv)\n"
     ],
     "language": "python",
     "metadata": {},
     "outputs": []
    }
   ],
   "metadata": {}
  }
 ]
}