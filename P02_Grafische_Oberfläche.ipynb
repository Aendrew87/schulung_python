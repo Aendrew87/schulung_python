{
 "cells": [
  {
   "cell_type": "markdown",
   "metadata": {},
   "source": [
    "Grafische Oberfläche mit QT\n",
    "-------------\n",
    "\n",
    "* Idee: Programm mit grafischer Oberfläche\n",
    "* Es gibt zahlreiche Oberflächen-Werkzeuge\n",
    "* Ein einfaches Programm, mit nur einem Button kann komplett in Python geschrieben werden\n",
    "* Komplexere Programme könnten in Qt-Designer \"gemalt\" und mit Werkzeugen übersetzt werden\n",
    "* Viele weitere Oberflächen-Frameworks verfügbar\n",
    "* Funktioniert nicht aus IPython heraus"
   ]
  },
  {
   "cell_type": "code",
   "execution_count": null,
   "metadata": {
    "collapsed": false
   },
   "outputs": [],
   "source": [
    "#!/usr/bin/env python\n",
    "\n",
    "import sys\n",
    "from PyQt4 import Qt\n",
    "\n",
    "\n",
    "class HelloApplication(Qt.QApplication):\n",
    "\n",
    "    def __init__(self, args):\n",
    "        # ...\n",
    "        Qt.QApplication.__init__(self, args)\n",
    "        # ...\n",
    "        self.addWidgets()\n",
    "        # ...\n",
    "        self.exec_()\n",
    "\n",
    "    def addWidgets(self):\n",
    "        # ...\n",
    "        self.mein_button = Qt.QPushButton(\"Sag 'Guten Tag!'\", None)\n",
    "        # ...\n",
    "        self.connect(self.mein_button, Qt.SIGNAL(\"clicked()\"), self.slotSagGutenTag)\n",
    "        self.mein_button.show()\n",
    "\n",
    "    def slotSagGutenTag(self):\n",
    "        # ...\n",
    "        print (\"Guten Tag!\")\n",
    "\n",
    "# Wenn das Programm gestartet wird, erzeuge ein HelloApplication Instanz\n",
    "if __name__ == \"__main__\":\n",
    "    app = HelloApplication(sys.argv)\n"
   ]
  }
 ],
 "metadata": {
  "kernelspec": {
   "display_name": "Python 3",
   "language": "python",
   "name": "python3"
  },
  "language_info": {
   "codemirror_mode": {
    "name": "ipython",
    "version": 3
   },
   "file_extension": ".py",
   "mimetype": "text/x-python",
   "name": "python",
   "nbconvert_exporter": "python",
   "pygments_lexer": "ipython3",
   "version": "3.5.1"
  }
 },
 "nbformat": 4,
 "nbformat_minor": 0
}
