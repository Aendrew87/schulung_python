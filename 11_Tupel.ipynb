{
 "metadata": {
  "name": "",
  "signature": "sha256:e83b727df9d57a2f1a6ce99f169767fb0a5ca6cf9297212145a9940922c9a1f5"
 },
 "nbformat": 3,
 "nbformat_minor": 0,
 "worksheets": [
  {
   "cells": [
    {
     "cell_type": "markdown",
     "metadata": {},
     "source": [
      "Tupel\n",
      "-----------\n",
      "\n",
      "### Grundlagen\n",
      "\n",
      "* Tupel \u00e4hnen Listen\n",
      "* Tupel sind nicht-ver\u00e4nderbar (z.B. sort)\n",
      "* Werden f\u00fcr \"mehrere Werte\" verwendet"
     ]
    },
    {
     "cell_type": "code",
     "collapsed": false,
     "input": [
      "# explizit\n",
      "person = (\"Johannes\", \"Jensen\")\n",
      "print(person)\n",
      "print(type(person))\n",
      "\n",
      "# oder implizit \n",
      "person = \"Johannes\", \"Jensen\"\n",
      "print(person)\n",
      "print(type(person))"
     ],
     "language": "python",
     "metadata": {},
     "outputs": [
      {
       "output_type": "stream",
       "stream": "stdout",
       "text": [
        "('Johannes', 'Jensen')\n",
        "<class 'tuple'>\n",
        "('Johannes', 'Jensen')\n",
        "<class 'tuple'>\n"
       ]
      }
     ],
     "prompt_number": 6
    },
    {
     "cell_type": "markdown",
     "metadata": {},
     "source": [
      "* Zugriff wie bei Listen"
     ]
    },
    {
     "cell_type": "code",
     "collapsed": false,
     "input": [
      "person = (\"Johannes\", \"Jensen\")\n",
      "print(person[1])\n",
      "print(person[::-1])\n",
      "\n",
      "# aber nicht:\n",
      "# person.sort()\n",
      "# person.append()\n",
      "# ..."
     ],
     "language": "python",
     "metadata": {},
     "outputs": [
      {
       "output_type": "stream",
       "stream": "stdout",
       "text": [
        "Jensen\n",
        "('Jensen', 'Johannes')\n"
       ]
      }
     ],
     "prompt_number": 12
    },
    {
     "cell_type": "code",
     "collapsed": false,
     "input": [
      "# Aufgabe:\n",
      "#\n",
      "# Machen folgende Konstrukte Sinn - und wenn ja: Finde ein Beispiel.\n",
      "# Es handelt sich um Pseudocode:\n",
      "\n",
      "# Tupel(Liste(String), Liste(String))\n",
      "\n",
      "# Liste(Tupel(String))\n",
      "\n",
      "# Tupel(Tupel(String,String) ,Tupel(String, String))\n"
     ],
     "language": "python",
     "metadata": {},
     "outputs": []
    }
   ],
   "metadata": {}
  }
 ]
}