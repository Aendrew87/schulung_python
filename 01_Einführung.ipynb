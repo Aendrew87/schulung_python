{
 "metadata": {
  "name": "",
  "signature": "sha256:99472e9bbca81fbcedec2a10da1a454905118c2a5475815d78baaa69ebbd9d6b"
 },
 "nbformat": 3,
 "nbformat_minor": 0,
 "worksheets": [
  {
   "cells": [
    {
     "cell_type": "markdown",
     "metadata": {},
     "source": [
      "Einf\u00fchrung\n",
      "====================\n",
      "\n",
      "Die Sprache\n",
      "--------------------\n",
      "\n",
      "###  Autor \n",
      "* Guido van Rossum ![von Rossum](https://www.python.org/~guido/images/IMG_2192.jpg \"van Rossum\")\n",
      "* [Centrum Wiskunde & Informatica](https://www.cwi.nl/) (Amerterdam)\n",
      "* Heute: [Dropbox](http://de.wikipedia.org/wiki/Dropbox) (zuvor Google)\n",
      "\n",
      "### Herkunft\n",
      "* Als Nachfolger f\u00fcr die Programmier-Lehrsprache *ABC*\n",
      "* Namensgebung: [Monty Python](http://de.wikipedia.org/wiki/Monty_Python)\n",
      "\n",
      "### Ziele\n",
      "* Einfach, intuitiv, m\u00e4chtig\n",
      "* Open Source\n",
      "* Quelltext, der *so einfach zu lesen ist wie Englisch*\n",
      "* F\u00fcr t\u00e4gliche Aufgaben geeignet\n",
      "* Kurze Entwicklungszeit\n",
      "\n",
      "Bedeutung\n",
      "--------------------\n",
      "\n",
      "### Popularit\u00e4t\n",
      "* [Python is now the most popular introductory teaching kanguage at top U.S. universities](http://cacm.acm.org/blogs/blog-cacm/176450-python-is-now-the-most-popular-introductory-teaching-language-at-top-us-universities/fulltext)\n",
      "* [Top Sprachen: Python, Java, Matlab, C](http://www.pgbovine.net), Stand: Juli 2014\n",
      "* [Github](https://github.com/): Platz 5 (2013, 2012); Platz 1: Javascript\n",
      "\n",
      "### Einfl\u00fcsse\n",
      "* Beeinflusst von:\n",
      "    * ABC, Algol 60, Modula-3, Icon, C, Perl, LISP, Smalltalk, Tcl, Haskell\n",
      "* Beeinflusste:\n",
      "    * Ruby, Boo, Groovy, Cython, Swift \n",
      "  \n",
      "### Einsatz\n",
      "* Systemwerkzeuge (z.B. Ubuntu, RedHat, u.v.m.)\n",
      "    * [Ubuntu Software Center](http://en.wikipedia.org/wiki/Ubuntu_Software_Center)\n",
      "* Web-Frameworks und Cloud-Dienste (z.B. Django, Flask, u.v.m.)\n",
      "    * [OpenStack](http://www.openstack.org/)\n",
      "    * [Youtube](http://www.youtube.com/watch?v=G-lGCC4KKok)\n",
      "    * [Dropbox](https://www.dropbox.com/developers/core/docs/python)\n",
      "    * [Yahoo Maps](https://de.maps.yahoo.com/)\n",
      "* Oberfl\u00e4chen Programme (z.B. Qt, GTK, wxWindows, u.v.m.)\n",
      "    * [Miro](http://en.wikipedia.org/wiki/Miro_(software))\n",
      "* Skripting Sprache in Programmen\n",
      "    * [Blender 3D](http://www.blender.org/)\n",
      "    * LibreOffice\n",
      "* Bioinformatik\n",
      "* Raspberry Pi\n",
      "* u.v.m."
     ]
    }
   ],
   "metadata": {}
  }
 ]
}